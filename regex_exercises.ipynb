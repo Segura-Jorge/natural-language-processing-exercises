{
 "cells": [
  {
   "cell_type": "code",
   "execution_count": 1,
   "id": "82828a8d-549b-4759-812b-8a7af089c680",
   "metadata": {
    "tags": []
   },
   "outputs": [],
   "source": [
    "# Imports\n",
    "import re\n",
    "import pandas as p"
   ]
  },
  {
   "cell_type": "markdown",
   "id": "9aa051d4-9575-45ca-adba-1dad42437458",
   "metadata": {},
   "source": [
    "1. Write a function named `is_vowel`. It should accept a string as input and use a regular expression to determine if the passed string is a vowel. While not explicity mentioned in the lesson, you can treat the result of `re.search` as a boolean value that indicates whether or not the regular expression matches the given string."
   ]
  },
  {
   "cell_type": "code",
   "execution_count": 2,
   "id": "6516c499-ee95-480b-aaa8-64a51d378aac",
   "metadata": {
    "tags": []
   },
   "outputs": [],
   "source": [
    "def is_vowel(s):\n",
    "    \"\"\"\n",
    "    Determine if the passed string is a vowel.\n",
    "\n",
    "    Parameters:\n",
    "    s (str): The string to check\n",
    "\n",
    "    Returns:\n",
    "    bool: True if the string is a vowel, False otherwise\n",
    "    \"\"\"\n",
    "    # Use regular expression to check if 's' is a single vowel character\n",
    "    # (either lowercase or uppercase)\n",
    "    return bool(re.search(r'^[aeiouAEIOU]$', s))"
   ]
  },
  {
   "cell_type": "code",
   "execution_count": 3,
   "id": "a7746d16-2f18-4027-9e2e-416c63fdffcb",
   "metadata": {
    "tags": []
   },
   "outputs": [
    {
     "data": {
      "text/plain": [
       "True"
      ]
     },
     "execution_count": 3,
     "metadata": {},
     "output_type": "execute_result"
    }
   ],
   "source": [
    "is_vowel('a')"
   ]
  },
  {
   "cell_type": "code",
   "execution_count": 4,
   "id": "465595b6-50e2-4e7b-8c4d-71cd254a7177",
   "metadata": {
    "tags": []
   },
   "outputs": [
    {
     "data": {
      "text/plain": [
       "True"
      ]
     },
     "execution_count": 4,
     "metadata": {},
     "output_type": "execute_result"
    }
   ],
   "source": [
    "is_vowel('i')"
   ]
  },
  {
   "cell_type": "code",
   "execution_count": 5,
   "id": "d6d7cc31-0963-43af-a08b-44a4c79fa8eb",
   "metadata": {
    "tags": []
   },
   "outputs": [
    {
     "data": {
      "text/plain": [
       "False"
      ]
     },
     "execution_count": 5,
     "metadata": {},
     "output_type": "execute_result"
    }
   ],
   "source": [
    "is_vowel('')"
   ]
  },
  {
   "cell_type": "code",
   "execution_count": 6,
   "id": "0756466c-8e4c-48b3-a12a-b417b39c024c",
   "metadata": {
    "tags": []
   },
   "outputs": [
    {
     "data": {
      "text/plain": [
       "False"
      ]
     },
     "execution_count": 6,
     "metadata": {},
     "output_type": "execute_result"
    }
   ],
   "source": [
    "is_vowel('y')"
   ]
  },
  {
   "cell_type": "code",
   "execution_count": 7,
   "id": "4a4e00cc-2272-44ac-a7c5-882291bbdc5d",
   "metadata": {
    "tags": []
   },
   "outputs": [
    {
     "data": {
      "text/plain": [
       "True"
      ]
     },
     "execution_count": 7,
     "metadata": {},
     "output_type": "execute_result"
    }
   ],
   "source": [
    "is_vowel('U')"
   ]
  },
  {
   "cell_type": "markdown",
   "id": "3592e0a3-9c22-43c6-8f30-4ccbf564b235",
   "metadata": {},
   "source": [
    "2. Write a function named `is_valid_username` that accepts a string as input. A valid username starts with a lowercase letter, and only consists of lowercase letters, numbers, or the _ character. It should also be no longer than 32 characters. The function should return either `True` or `False` depending on whether the passed string is a valid username.\n",
    ">>> is_valid_username('aaaaaaaaaaaaaaaaaaaaaaaaaaaaaaaaa')\n",
    "False\n",
    ">>> is_valid_username('codeup')\n",
    "True\n",
    ">>> is_valid_username('Codeup')\n",
    "False\n",
    ">>> is_valid_username('codeup123')\n",
    "True\n",
    ">>> is_valid_username('1codeup')\n",
    "False"
   ]
  },
  {
   "cell_type": "code",
   "execution_count": 8,
   "id": "583ef8af-4251-43a9-9652-5db96a5bfc93",
   "metadata": {
    "tags": []
   },
   "outputs": [],
   "source": [
    "def is_valid_username(username):\n",
    "    \"\"\"\n",
    "    Check if the given username is valid.\n",
    "\n",
    "    A valid username starts with a lowercase letter, and only consists of\n",
    "    lowercase letters, numbers, or the underscore character. It should also\n",
    "    be no longer than 32 characters.\n",
    "\n",
    "    Parameters:\n",
    "    username (str): The username to validate\n",
    "\n",
    "    Returns:\n",
    "    bool: True if the username is valid, False otherwise\n",
    "    \"\"\"\n",
    "    # Regular expression to match the criteria for a valid username\n",
    "    return bool(re.match(r'^[a-z][a-z0-9_]{0,31}$', username))\n"
   ]
  },
  {
   "cell_type": "code",
   "execution_count": 9,
   "id": "787c0479-f6b5-4883-8f9f-f598889f4077",
   "metadata": {
    "tags": []
   },
   "outputs": [
    {
     "data": {
      "text/plain": [
       "True"
      ]
     },
     "execution_count": 9,
     "metadata": {},
     "output_type": "execute_result"
    }
   ],
   "source": [
    "# Sample true\n",
    "is_valid_username('izel_segura')"
   ]
  },
  {
   "cell_type": "code",
   "execution_count": 10,
   "id": "600574f4-73fc-4f99-91b3-9b6136e3078d",
   "metadata": {
    "tags": []
   },
   "outputs": [
    {
     "data": {
      "text/plain": [
       "False"
      ]
     },
     "execution_count": 10,
     "metadata": {},
     "output_type": "execute_result"
    }
   ],
   "source": [
    "# capital letter 'S'\n",
    "is_valid_username('izel_Segura')"
   ]
  },
  {
   "cell_type": "code",
   "execution_count": 11,
   "id": "eccb5ea8-7b0c-4be2-84d9-d10ed96d9d2d",
   "metadata": {
    "tags": []
   },
   "outputs": [
    {
     "data": {
      "text/plain": [
       "True"
      ]
     },
     "execution_count": 11,
     "metadata": {},
     "output_type": "execute_result"
    }
   ],
   "source": [
    "# lower case letters, '_', and numbers\n",
    "is_valid_username('izel_segura1980')"
   ]
  },
  {
   "cell_type": "code",
   "execution_count": 12,
   "id": "b4a5cd45-b178-4365-a287-8f333880c6a1",
   "metadata": {
    "tags": []
   },
   "outputs": [
    {
     "data": {
      "text/plain": [
       "False"
      ]
     },
     "execution_count": 12,
     "metadata": {},
     "output_type": "execute_result"
    }
   ],
   "source": [
    "# \" \" sample not valid\n",
    "is_valid_username('izel segura')"
   ]
  },
  {
   "cell_type": "code",
   "execution_count": 13,
   "id": "92ddc813-348d-40a9-8d23-7943823bae18",
   "metadata": {
    "tags": []
   },
   "outputs": [
    {
     "data": {
      "text/plain": [
       "False"
      ]
     },
     "execution_count": 13,
     "metadata": {},
     "output_type": "execute_result"
    }
   ],
   "source": [
    "# '∂' is not permitted\n",
    "is_valid_username('izel_segur∂')"
   ]
  },
  {
   "cell_type": "code",
   "execution_count": 14,
   "id": "ea35765d-610b-4a4f-bcd9-b11452a79e57",
   "metadata": {
    "tags": []
   },
   "outputs": [
    {
     "data": {
      "text/plain": [
       "True"
      ]
     },
     "execution_count": 14,
     "metadata": {},
     "output_type": "execute_result"
    }
   ],
   "source": [
    "# numbers with a letter in front\n",
    "is_valid_username('a1234567890')"
   ]
  },
  {
   "cell_type": "code",
   "execution_count": 15,
   "id": "5e264c81-f93e-450c-ac8d-a3f0903dc7a2",
   "metadata": {
    "tags": []
   },
   "outputs": [
    {
     "data": {
      "text/plain": [
       "False"
      ]
     },
     "execution_count": 15,
     "metadata": {},
     "output_type": "execute_result"
    }
   ],
   "source": [
    "# numbers without a letter in front\n",
    "is_valid_username('1234567890')"
   ]
  },
  {
   "cell_type": "code",
   "execution_count": 16,
   "id": "f3b3dc1a-1991-4aa7-9a80-8b3ac4d36a82",
   "metadata": {
    "tags": []
   },
   "outputs": [
    {
     "data": {
      "text/plain": [
       "True"
      ]
     },
     "execution_count": 16,
     "metadata": {},
     "output_type": "execute_result"
    }
   ],
   "source": [
    "# 32 characters valid\n",
    "is_valid_username('aaaaaaaaa1aaaaaaaaa2aaaaaaaaa3aa')"
   ]
  },
  {
   "cell_type": "code",
   "execution_count": 17,
   "id": "5b4d6200-7478-40cc-b4fc-f580c07253e0",
   "metadata": {
    "tags": []
   },
   "outputs": [
    {
     "data": {
      "text/plain": [
       "False"
      ]
     },
     "execution_count": 17,
     "metadata": {},
     "output_type": "execute_result"
    }
   ],
   "source": [
    "# 33 characters NOT valid\n",
    "is_valid_username('aaaaaaaaa1aaaaaaaaa2aaaaaaaaa3aaa')"
   ]
  },
  {
   "cell_type": "markdown",
   "id": "b18308e8-0c35-4ab2-9781-8a935f60f376",
   "metadata": {},
   "source": [
    "3. Write a regular expression to capture phone numbers. It should match all of the following:\n",
    "\n",
    "- (210) 867 5309\n",
    "- +1 210.867.5309\n",
    "- 867-5309\n",
    "- 210-867-5309"
   ]
  },
  {
   "cell_type": "code",
   "execution_count": 18,
   "id": "5ee743f0-c087-4eff-b91b-77d953dc9b9d",
   "metadata": {
    "tags": []
   },
   "outputs": [],
   "source": [
    "# Function to test if a string is a phone number\n",
    "def is_phone_number(string):\n",
    "    phone_number_re = \"(\\+?\\d+)?.?(\\(?\\d{3}\\)?)?.?\\d{3}.?\\d{4}\"\n",
    "    \n",
    "    return (re.search(phone_number_re, string))"
   ]
  },
  {
   "cell_type": "code",
   "execution_count": 19,
   "id": "13e9a0a6-030a-479d-ae1c-91166f30b430",
   "metadata": {
    "tags": []
   },
   "outputs": [
    {
     "name": "stdout",
     "output_type": "stream",
     "text": [
      "'(210) 867 5309' is a phone number: <re.Match object; span=(0, 14), match='(210) 867 5309'>\n",
      "'+1 210.867.5309' is a phone number: <re.Match object; span=(0, 15), match='+1 210.867.5309'>\n",
      "'867-5309' is a phone number: <re.Match object; span=(0, 8), match='867-5309'>\n",
      "'210-867-5309' is a phone number: <re.Match object; span=(0, 12), match='210-867-5309'>\n",
      "'1234567890' is a phone number: <re.Match object; span=(0, 10), match='1234567890'>\n"
     ]
    }
   ],
   "source": [
    "# Example usage\n",
    "test_strings = [\"(210) 867 5309\", \"+1 210.867.5309\", \"867-5309\", \"210-867-5309\", \"1234567890\"]\n",
    "\n",
    "for string in test_strings:\n",
    "    print(f\"'{string}' is a phone number: {is_phone_number(string)}\")"
   ]
  },
  {
   "cell_type": "markdown",
   "id": "e5c53458-fb97-489d-864e-49b9d773a380",
   "metadata": {},
   "source": [
    "4. Use regular expressions to convert the dates below to the standardized year-month-day format.\n",
    "\n",
    "- 02/04/19\n",
    "- 02/05/19\n",
    "- 02/06/19\n",
    "- 02/07/19\n",
    "- 02/08/19\n",
    "- 02/09/19\n",
    "- 02/10/19"
   ]
  },
  {
   "cell_type": "code",
   "execution_count": 20,
   "id": "26a7f1f3-f13a-4f40-898c-2591f9c2e989",
   "metadata": {
    "tags": []
   },
   "outputs": [],
   "source": [
    "def convert_dates(dates):\n",
    "    \"\"\"\n",
    "    Convert a list of date strings from MM/DD/YY to YYYY-MM-DD format, taking into\n",
    "    account 20th and 21st century dates.\n",
    "    \n",
    "    Parameters:\n",
    "    dates (list of str): List of date strings to convert.\n",
    "    \n",
    "    Returns:\n",
    "    dict: Dictionary with original date strings as keys and converted date strings as values.\n",
    "    \"\"\"\n",
    "    converted_dates = {}\n",
    "    \n",
    "    for date in dates:\n",
    "        # Use regular expression to capture the groups\n",
    "        month, day, year = re.search(r'(\\d{2})/(\\d{2})/(\\d{2})', date).groups()\n",
    "        \n",
    "        # Convert the two-digit year to four digits\n",
    "        # If the year is less than 25, assume it belongs to the 2000s, otherwise 1900s\n",
    "        if int(year) < 25:\n",
    "            year = f\"20{year}\"\n",
    "        else:\n",
    "            year = f\"19{year}\"\n",
    "        \n",
    "        # Convert to year-month-day format\n",
    "        standardized_date = f\"{year}-{month}-{day}\"\n",
    "        \n",
    "        # Add to the dictionary\n",
    "        converted_dates[date] = standardized_date\n",
    "    \n",
    "    return converted_dates"
   ]
  },
  {
   "cell_type": "code",
   "execution_count": 21,
   "id": "8155d145-363b-4863-943c-a4f026fa6c55",
   "metadata": {
    "tags": []
   },
   "outputs": [
    {
     "name": "stdout",
     "output_type": "stream",
     "text": [
      "02/04/19 -> 2019-02-04\n",
      "02/05/19 -> 2019-02-05\n",
      "02/06/19 -> 2019-02-06\n",
      "02/07/19 -> 2019-02-07\n",
      "02/08/19 -> 2019-02-08\n",
      "02/09/19 -> 2019-02-09\n",
      "02/10/19 -> 2019-02-10\n",
      "04/03/89 -> 1989-04-03\n",
      "03/01/52 -> 1952-03-01\n",
      "12/25/25 -> 1925-12-25\n"
     ]
    }
   ],
   "source": [
    "# Example usage\n",
    "date_strings = [\n",
    "    \"02/04/19\",\n",
    "    \"02/05/19\",\n",
    "    \"02/06/19\",\n",
    "    \"02/07/19\",\n",
    "    \"02/08/19\",\n",
    "    \"02/09/19\",\n",
    "    \"02/10/19\",\n",
    "    \"04/03/89\",  # Adding a specific cases\n",
    "    \"03/01/52\",\n",
    "    \"12/25/25\"\n",
    "]\n",
    "\n",
    "# Convert the dates\n",
    "converted_date_strings = convert_dates(date_strings)\n",
    "for original, converted in converted_date_strings.items():\n",
    "    print(f\"{original} -> {converted}\")"
   ]
  },
  {
   "cell_type": "markdown",
   "id": "ea616cfa-5e8a-446d-8b52-4dc0901d280a",
   "metadata": {},
   "source": [
    "5. Write a regex to extract the various parts of these logfile lines:\n",
    "\n",
    "- GET /api/v1/sales?page=86 [16/Apr/2019:193452+0000] HTTP/1.1 {200} 510348 \"python-requests/2.21.0\" 97.105.19.58\n",
    "- POST /users_accounts/file-upload [16/Apr/2019:193452+0000] HTTP/1.1 {201} 42 \"User-Agent: Mozilla/5.0 (X11; Fedora; Fedora; Linux x86_64) AppleWebKit/537.36 (KHTML, like Gecko) Chrome/73.0.3683.86 Safari/537.36\" 97.105.19.58\n",
    "- GET /api/v1/items?page=3 [16/Apr/2019:193453+0000] HTTP/1.1 {429} 3561 \"python-requests/2.21.0\" 97.105.19.58"
   ]
  },
  {
   "cell_type": "code",
   "execution_count": 22,
   "id": "078e712c-d7e4-455a-b1f3-eb1732ba8bcd",
   "metadata": {
    "tags": []
   },
   "outputs": [],
   "source": [
    "# Define the regular expression pattern to extract the various parts of the logfile lines\n",
    "logfile_regex = r'(\\w+)\\s+(\\S+)\\s+\\[(.*?)\\]\\s+(\\S+)\\s+\\{(\\d+)\\}\\s+(\\d+)\\s+\"(.*?)\"\\s+(\\d+\\.\\d+\\.\\d+\\.\\d+)'\n",
    "\n",
    "# List of logfile lines to extract information from\n",
    "logfile_lines = [\n",
    "    \"GET /api/v1/sales?page=86 [16/Apr/2019:193452+0000] HTTP/1.1 {200} 510348 \\\"python-requests/2.21.0\\\" 97.105.19.58\",\n",
    "    \"POST /users_accounts/file-upload [16/Apr/2019:193452+0000] HTTP/1.1 {201} 42 \\\"User-Agent: Mozilla/5.0 (X11; Fedora; Fedora; Linux x86_64) AppleWebKit/537.36 (KHTML, like Gecko) Chrome/73.0.3683.86 Safari/537.36\\\" 97.105.19.58\",\n",
    "    \"GET /api/v1/items?page=3 [16/Apr/2019:193453+0000] HTTP/1.1 {429} 3561 \\\"python-requests/2.21.0\\\" 97.105.19.58\"\n",
    "]\n",
    "\n",
    "# Function to extract and print the information from the log lines\n",
    "def extract_log_info(log_lines, regex):\n",
    "    for line in log_lines:\n",
    "        match = re.match(regex, line)\n",
    "        if match:\n",
    "            method, path, timestamp, protocol, status_code, size, user_agent, ip = match.groups()\n",
    "            print(f\"Method: {method}\")\n",
    "            print(f\"Path: {path}\")\n",
    "            print(f\"Timestamp: {timestamp}\")\n",
    "            print(f\"Protocol: {protocol}\")\n",
    "            print(f\"Status Code: {status_code}\")\n",
    "            print(f\"Size: {size}\")\n",
    "            print(f\"User-Agent: {user_agent}\")\n",
    "            print(f\"IP Address: {ip}\")\n",
    "            print(\"\\n\")  # Print a newline for better separation between entries"
   ]
  },
  {
   "cell_type": "code",
   "execution_count": 23,
   "id": "3d8843c1-ad94-4030-aec2-8c8c712cff84",
   "metadata": {
    "tags": []
   },
   "outputs": [
    {
     "name": "stdout",
     "output_type": "stream",
     "text": [
      "Method: GET\n",
      "Path: /api/v1/sales?page=86\n",
      "Timestamp: 16/Apr/2019:193452+0000\n",
      "Protocol: HTTP/1.1\n",
      "Status Code: 200\n",
      "Size: 510348\n",
      "User-Agent: python-requests/2.21.0\n",
      "IP Address: 97.105.19.58\n",
      "\n",
      "\n",
      "Method: POST\n",
      "Path: /users_accounts/file-upload\n",
      "Timestamp: 16/Apr/2019:193452+0000\n",
      "Protocol: HTTP/1.1\n",
      "Status Code: 201\n",
      "Size: 42\n",
      "User-Agent: User-Agent: Mozilla/5.0 (X11; Fedora; Fedora; Linux x86_64) AppleWebKit/537.36 (KHTML, like Gecko) Chrome/73.0.3683.86 Safari/537.36\n",
      "IP Address: 97.105.19.58\n",
      "\n",
      "\n",
      "Method: GET\n",
      "Path: /api/v1/items?page=3\n",
      "Timestamp: 16/Apr/2019:193453+0000\n",
      "Protocol: HTTP/1.1\n",
      "Status Code: 429\n",
      "Size: 3561\n",
      "User-Agent: python-requests/2.21.0\n",
      "IP Address: 97.105.19.58\n",
      "\n",
      "\n"
     ]
    }
   ],
   "source": [
    "# Call the function to extract and print log information\n",
    "extract_log_info(logfile_lines, logfile_regex)\n"
   ]
  },
  {
   "cell_type": "code",
   "execution_count": null,
   "id": "89fe627e-e43c-419c-b235-4863f89668df",
   "metadata": {},
   "outputs": [],
   "source": []
  }
 ],
 "metadata": {
  "kernelspec": {
   "display_name": "Python 3 (ipykernel)",
   "language": "python",
   "name": "python3"
  },
  "language_info": {
   "codemirror_mode": {
    "name": "ipython",
    "version": 3
   },
   "file_extension": ".py",
   "mimetype": "text/x-python",
   "name": "python",
   "nbconvert_exporter": "python",
   "pygments_lexer": "ipython3",
   "version": "3.11.4"
  }
 },
 "nbformat": 4,
 "nbformat_minor": 5
}
