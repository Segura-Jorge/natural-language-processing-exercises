{
 "cells": [
  {
   "cell_type": "code",
   "execution_count": 17,
   "id": "377ec380-3ee8-41a0-9973-a1ac38bcf85f",
   "metadata": {
    "tags": []
   },
   "outputs": [],
   "source": [
    "import pandas as pd\n",
    "import numpy as np\n",
    "import requests\n",
    "from bs4 import BeautifulSoup\n",
    "import os\n",
    "import json"
   ]
  },
  {
   "cell_type": "markdown",
   "id": "949b558e-63e9-4a98-ac0f-b8791a7b96a4",
   "metadata": {},
   "source": [
    "1. Codeup Blog Articles\n",
    "\n",
    "Visit `Codeup's Blog` and record the urls for at least 5 distinct blog posts. For each post, you should scrape at least the post's title and content.\n",
    "\n",
    "Encapsulate your work in a function named `get_blog_articles` that will return a list of dictionaries, with each dictionary representing one article. The shape of each dictionary should look like this:\n",
    "\n",
    "\n",
    "{\n",
    "    'title': 'the title of the article',\n",
    "    'content': 'the full text content of the article'\n",
    "}\n",
    "\n",
    "Plus any additional properties you think might be helpful."
   ]
  },
  {
   "cell_type": "code",
   "execution_count": 18,
   "id": "c0f34fbb-6a1e-4a6d-a266-e21862d4b419",
   "metadata": {
    "tags": []
   },
   "outputs": [],
   "source": [
    "# List of URLs to scrape\n",
    "urls = [\n",
    "    \"https://www.codeup.edu/blog?4ba4c290_page=13\",\n",
    "    \"https://www.codeup.edu/blog/https-codeup-edu-p-17313\",\n",
    "    \"https://www.codeup.edu/blog/https-codeup-edu-codeup-news-salary-refund-guarantee\",\n",
    "    \"https://www.codeup.edu/blog/https-codeup-edu-data-science-what-is-machine-learning\",\n",
    "    \"https://www.codeup.edu/blog/https-codeup-edu-data-science-what-is-python\"\n",
    "]"
   ]
  },
  {
   "cell_type": "code",
   "execution_count": 19,
   "id": "885ebc61-1a4b-42b6-8d1b-47d1a0dc7130",
   "metadata": {
    "tags": []
   },
   "outputs": [],
   "source": [
    "def get_blog_articles(urls):\n",
    "    articles = []\n",
    "    headers = {'User-Agent': 'Codeup Data Science'}  # Set a User-Agent to mimic a browser\n",
    "\n",
    "    for url in urls:\n",
    "        response = requests.get(url, headers=headers)\n",
    "        if response.ok:\n",
    "            soup = BeautifulSoup(response.content, 'html.parser')\n",
    "            \n",
    "            # Replace these with the correct selectors you find\n",
    "            title_selector = 'h1.article-title'\n",
    "            content_selector = 'div.article-content'\n",
    "\n",
    "            title_element = soup.select_one(title_selector)\n",
    "            content_element = soup.select_one(content_selector)\n",
    "\n",
    "            title = title_element.get_text(strip=True) if title_element else 'No title found'\n",
    "            content = content_element.get_text(strip=True) if content_element else 'No content found'\n",
    "            \n",
    "            articles.append({'title': title, 'content': content})\n",
    "        else:\n",
    "            print(f\"Failed to retrieve {url}\")\n",
    "            \n",
    "    return articles"
   ]
  },
  {
   "cell_type": "code",
   "execution_count": 20,
   "id": "09665c3d-2730-4c99-8ff8-6d371b894981",
   "metadata": {
    "tags": []
   },
   "outputs": [
    {
     "name": "stdout",
     "output_type": "stream",
     "text": [
      "Title: No title found\n",
      "Content: No content found\n",
      "\n",
      "Title: No title found\n",
      "Content: No content found\n",
      "\n",
      "Title: No title found\n",
      "Content: No content found\n",
      "\n",
      "Title: No title found\n",
      "Content: No content found\n",
      "\n",
      "Title: No title found\n",
      "Content: No content found\n",
      "\n"
     ]
    }
   ],
   "source": [
    "# Execute the function and print the results\n",
    "blog_articles = get_blog_articles(urls)\n",
    "for article in blog_articles:\n",
    "    print(f\"Title: {article['title']}\")\n",
    "    print(f\"Content: {article['content']}\\n\")\n"
   ]
  },
  {
   "cell_type": "code",
   "execution_count": 4,
   "id": "2079b183-e52f-479a-b967-88df9bb2afe9",
   "metadata": {
    "tags": []
   },
   "outputs": [],
   "source": [
    "# List of URLs to scrape\n",
    "urls = [\n",
    "    \"https://www.codeup.edu/blog?4ba4c290_page=13\",\n",
    "    \"https://www.codeup.edu/blog/https-codeup-edu-p-17313\",\n",
    "    \"https://www.codeup.edu/blog/https-codeup-edu-codeup-news-salary-refund-guarantee\",\n",
    "    \"https://www.codeup.edu/blog/https-codeup-edu-data-science-what-is-machine-learning\",\n",
    "    \"https://www.codeup.edu/blog/https-codeup-edu-data-science-what-is-python\"\n",
    "]\n"
   ]
  },
  {
   "cell_type": "code",
   "execution_count": 5,
   "id": "b3ee307f-a9a7-4674-bac9-dd3fc8aad9c5",
   "metadata": {
    "tags": []
   },
   "outputs": [
    {
     "data": {
      "text/plain": [
       "<Response [200]>"
      ]
     },
     "execution_count": 5,
     "metadata": {},
     "output_type": "execute_result"
    }
   ],
   "source": [
    "url = \"https://www.codeup.edu/blog?4ba4c290_page=13\"\n",
    "headers = {'User-Agent': 'Codeup Data Science'} \n",
    "response = get(url, headers=headers)\n",
    "response"
   ]
  },
  {
   "cell_type": "code",
   "execution_count": 9,
   "id": "30f7222b-3c9e-4c0c-baa8-6a59e29b588c",
   "metadata": {
    "scrolled": true,
    "tags": []
   },
   "outputs": [
    {
     "data": {
      "text/plain": [
       "'<!DOCTYPE html><!-- Last Published: Thu Dec 28 2023 17:50:38 GMT+0000 (Coordinated Universal Time) --><html data-wf-domain=\"www.codeup.edu\" data-wf-page=\"64f0c92b635a8e96ba780952\" data-wf-site=\"632c75d94fe9214a38d3ba10\" lang=\"en\"><head><meta charset=\"utf-8\"/><title>Blogs</title><meta content=\"Blogs\" property=\"og:title\"/><meta content=\"Blogs\" property=\"twitter:title\"/><meta content=\"width=device-width, initial-scale=1\" name=\"viewport\"/><link href=\"https://assets-global.website-files.com/632c75d94fe9214a38d3ba10/css/codeup-website.webflow.dd8c8e6fe.min.css\" rel=\"stylesheet\" type=\"text/css\"/><link href=\"https://fonts.googleapis.com\" rel=\"preconnect\"/><link href=\"https://fonts.gstatic.com\" rel=\"preconnect\" crossorigin=\"anonymous\"/><script src=\"https://ajax.googleapis.com/ajax/libs/webfont/1.6.26/webfont.js\" type=\"text/javascript\"></script><script type=\"text/javascript\">WebFont.load({  google: {    families: [\"Poppins:100,100italic,200,200italic,300,300italic,regular,italic,500,500italic,600,600italic,700,700italic,800,800italic,900,900italic\",\"Bebas Neue:regular\"]  }});</script><script type=\"text/javascript\">!function(o,c){var n=c.documentElement,t=\" w-mod-\";n.className+=t+\"js\",(\"ontouchstart\"in o||o.DocumentTouch&&c instanceof DocumentTouch)&&(n.className+=t+\"touch\")}(window,document);</script><link href=\"https://assets-global.website-files.com/632c75d94fe9214a38d3ba10/63d9a9f200089f0f65096eb4_favicon.png\" rel=\"shortcut icon\" type=\"image/x-icon\"/><link href=\"https://assets-global.website-files.com/632c75d94fe9214a38d3ba10/64f74b20b5514d39436608cf_CodeupFullColorChevronYT.jpeg\" rel=\"apple-touch-icon\"/><script async=\"\" src=\"https://www.googletagmanager.com/gtag/js?id=G-T28MWJ54LC\"></script><script type=\"text/javascript\">window.dataLayer = window.dataLayer || [];function gtag(){dataLayer.push(arguments);}gtag(\\'js\\', new Date());gtag(\\'set\\', \\'developer_id.dZGVlNj\\', true);gtag(\\'config\\', \\'G-T28MWJ54LC\\');</script><style>\\n  /* Ensure body doesn\\'t overflow on x-axis */\\n  html {\\n    width: 100vw;\\n  }\\n  body {\\n  \\twidth:100vw;\\n    overflow-x: clip;\\n  }\\n  /* Sticky Header Custom CSS */\\n  #header {\\n  \\tposition: -webkit-sticky; \\n  }\\n  #header.sticky {\\n    box-shadow: 0 0 10px -3px rgb(0 0 0 / 44%);\\n  }\\n  #header.sticky .bottom-header {\\n    height:70px;\\n  }\\n  #header.sticky .bottom-header-logo {\\n   max-height: 50px; \\n  }\\n  \\n  /* Button custom CSS */\\n  .button:hover .button-arrow {\\n    right: 20px;\\n    opacity: 1;\\n  }\\n  .course-nav-link:hover .course-nav-arrow {\\n   width: 10px;\\n   opacity: 1;\\n  }\\n  \\n  /* Mobile Menu Custom CSS */\\n  .mobile-menu-icon svg, #line1, #line2, #line3 {\\n    transform-origin: center center;\\n    transform: rotate(0deg);\\n    transition: all ease 0.2s;\\n    opacity: 1;\\n  }\\n  .mobile-menu-icon.open svg {\\n    transform: translate3d(0px,1px,0) rotate(180deg) scale(1.2);\\n  }\\n  .mobile-menu-icon.open svg #line1 {\\n    transform: translate3d(-4px,5px,0) rotate(45deg);\\n  }\\n  .mobile-menu-icon.open svg #line2 {\\n   \\topacity: 0;\\n  }\\n  .mobile-menu-icon.open svg #line3 {\\n    transform: translate3d(-4px,-3px, 0) rotate(-45deg);\\n  }\\n  .mobile-menu-icon-wrapper:has(.open) {\\n   \\tbackground-color:#FFC00D;\\n   \\tposition: fixed;\\n   \\ttop: 20px;\\n    right: 20px;\\n  }\\n  .mobile-menu-container {\\n    pointer-events: none;\\n  }\\n  .mobile-menu-container.open {\\n    pointer-events: all;\\n  }\\n  .mobile-menu-container.open .mobile-menu-bg {\\n  \\topacity:1; \\n  }\\n  .mobile-menu-container.open .mobile-menu-slideout {\\n  \\tright:0px; \\n  }\\n  html:has(.mobile-menu-container.open), body:has(.mobile-menu-container.open) {\\n    max-height: 100vh;\\n    overflow: hidden;\\n  }\\n  \\n  /* Custom Divider */\\n  .green-divider {\\n    background-image: url(data:image/svg+xml;base64,PHN2ZyB3aWR0aD0iMTAwJSIgaGVpZ2h0PSI2NXB4IiB2aWV3Qm94PSIwIDAgMTI4MCAxNDAiIHByZXNlcnZlQXNwZWN0UmF0aW89Im5vbmUiIHhtbG5zPSJodHRwOi8vd3d3LnczLm9yZy8yMDAwL3N2ZyI+PGcgZmlsbD0iIzc5QTA0QSI+PHBhdGggZD0iTTY0MCAxNDBMMTI4MCAwSDB6IiBmaWxsLW9wYWNpdHk9Ii41Ii8+PHBhdGggZD0iTTY0MCA5OGw2NDAtOThIMHoiLz48L2c+PC9zdmc+);\\n    background-size: 100% 65px;\\n    top: 0;\\n    height: 65px;\\n    z-index: 1;\\n    transform: scale(1,1); \\n  }\\n  .w-webflow-badge {\\n    display: none !important;\\n    opacity: 0 !important;\\n    pointer-events: none !important;\\n  }\\n</style></head><body><header id=\"header\" class=\"header\"><div class=\"top-header\"><div class=\"row flex space-between\"></div></div><div class=\"bottom-header\"><div class=\"row header\"><a href=\"/\" class=\"column col-shrink w-inline-block\"><img src=\"https://assets-global.website-files.com/632c75d94fe9214a38d3ba10/632c7951c0bc24b0a1b915d3_CodeupFullColorLogo.png\" loading=\"eager\" width=\"1070\" alt=\"Codeup Logo\" sizes=\"180px\" srcset=\"https://assets-global.website-files.com/632c75d94fe9214a38d3ba10/632c7951c0bc24b0a1b915d3_CodeupFullColorLogo-p-500.webp 500w, https://assets-global.website-files.com/632c75d94fe9214a38d3ba10/632c7951c0bc24b0a1b915d3_CodeupFullColorLogo.png 2140w\" class=\"bottom-header-logo\"/></a><link rel=\"prerender\" href=\"/\"/><div class=\"column\"><nav class=\"main-navigation\"><div data-dropdown=\"hover\" class=\"main-nav-link\"><div data-dropdown=\"\" class=\"main-nav-link-toggle\"><div class=\"main-nav-link-text\">Programs</div><div data-dropdown=\"arrow\" class=\"main-nav-link-arrow\">ï\\x84\\x85</div></div><div data-dropdown=\"menu\" class=\"main-nav-link-menu\"><div class=\"main-nav-link-menu-wrapper\"><a href=\"/program/cloud-administration\" class=\"main-nav-sublink\">Cloud Administration</a><link rel=\"prefetch\" href=\"/program/cloud-administration\"/><a href=\"/program/full-stack-web-development\" class=\"main-nav-sublink\">Web Development</a><link rel=\"prefetch\" href=\"/program/full-stack-web-development\"/><a href=\"/program/data-science\" class=\"main-nav-sublink\">Data Science</a><link rel=\"prefetch\" href=\"/program/data-science\"/></div></div></div><div data-dropdown=\"hover\" class=\"main-nav-link\"><a data-dropdown=\"\" href=\"/events\" class=\"main-nav-link-toggle w-inline-block\"><div class=\"main-nav-link-text\">Events</div></a></div><div data-dropdown=\"hover\" class=\"main-nav-link\"><div data-dropdown=\"\" class=\"main-nav-link-toggle\"><div class=\"main-nav-link-text\">Campuses</div><div data-dropdown=\"arrow\" class=\"main-nav-link-arrow\">ï\\x84\\x85</div></div><div data-dropdown=\"menu\" class=\"main-nav-link-menu\"><div class=\"main-nav-link-menu-wrapper\"><a href=\"/san-antonio\" class=\"main-nav-sublink\">San Antonio</a><a href=\"/dallas\" class=\"main-nav-sublink\">Dallas</a></div></div></div><div data-dropdown=\"hover\" class=\"main-nav-link\"><div data-dropdown=\"\" class=\"main-nav-link-toggle\"><div class=\"main-nav-link-text\">Resources</div><div data-dropdown=\"arrow\" class=\"main-nav-link-arrow\">ï\\x84\\x85</div></div><div data-dropdown=\"menu\" class=\"main-nav-link-menu\"><div class=\"main-nav-link-menu-wrapper\"><a href=\"/my-story\" class=\"main-nav-sublink\">Student Reviews</a><a href=\"/veterans\" class=\"main-nav-sublink\">Financing</a><a href=\"/blog\" aria-current=\"page\" class=\"main-nav-sublink w--current\">Blog</a><a href=\"#\" class=\"main-nav-sublink\">Common Questions</a><a href=\"/financial-aid\" class=\"main-nav-sublink\">Financing</a></div></div></div></nav></div><div class=\"column justify-center col-shrink\"></div><div class=\"column mobile-menu-column\"><div class=\"mobile-menu-icon-wrapper\"><div class=\"mobile-menu-icon w-embed\"><svg\\n     xmlns=\"http://www.w3.org/2000/svg\"\\n     width=\"20\"\\n     height=\"20\"\\n     viewBox=\"0 0 24 24\"\\n     fill=\"none\"\\n     stroke=\"currentColor\"\\n     strokeWidth=\"15\"\\n     strokeLinecap=\"round\"\\n     strokeLinejoin=\"round\"\\n     >\\n  <line x1=\"3\" y1=\"12\" x2=\"21\" y2=\"12\" id=\"line2\" stroke-width=\"2\"></line>\\n  <line x1=\"3\" y1=\"6\" x2=\"21\" y2=\"6\" id=\"line1\" stroke-width=\"2\"></line>\\n  <line x1=\"3\" y1=\"18\" x2=\"21\" y2=\"18\" id=\"line3\" stroke-width=\"2\"></line>\\n</svg></div></div><div class=\"mobile-menu-container\"><div class=\"mobile-menu-bg\"></div><div class=\"mobile-menu-slideout\"><img src=\"https://assets-global.website-files.com/632c75d94fe9214a38d3ba10/632c7951c0bc24b0a1b915d3_CodeupFullColorLogo.png\" loading=\"lazy\" sizes=\"(max-width: 991px) 120px, 100vw\" srcset=\"https://assets-global.website-files.com/632c75d94fe9214a38d3ba10/632c7951c0bc24b0a1b915d3_CodeupFullColorLogo-p-500.webp 500w, https://assets-global.website-files.com/632c75d94fe9214a38d3ba10/632c7951c0bc24b0a1b915d3_CodeupFullColorLogo.png 2140w\" alt=\"\" class=\"mobile-slideout-logo\"/><div class=\"mobile-slideout-wrapper\"><nav class=\"main-navigation mobile\"><div data-dropdown=\"click\" class=\"main-nav-link mobile\"><div data-dropdown=\"toggle\" class=\"main-nav-link-toggle mobile\"><div class=\"main-nav-link-text\">Programs</div><div data-dropdown=\"arrow\" class=\"main-nav-link-arrow\">ï\\x84\\x85</div></div><div data-dropdown=\"menu\" class=\"main-nav-link-menu mobile\"><div class=\"main-nav-link-menu-wrapper mobile\"><a href=\"/program/cloud-administration\" class=\"main-nav-sublink mobile\">Cloud Administration</a><link rel=\"prerender\" href=\"/program/cloud-administration\"/><a href=\"/program/full-stack-web-development\" class=\"main-nav-sublink mobile\">Web Development</a><link rel=\"prerender\" href=\"/program/full-stack-web-development\"/><a href=\"/program/data-science\" class=\"main-nav-sublink mobile\">Data Science</a><link rel=\"prerender\" href=\"/program/data-science\"/></div></div></div><div data-dropdown=\"click\" class=\"main-nav-link mobile\"><a data-dropdown=\"toggle\" href=\"/financial-aid\" class=\"main-nav-link-toggle mobile w-inline-block\"><div class=\"main-nav-link-text\">Financing</div></a></div><div data-dropdown=\"click\" class=\"main-nav-link mobile\"><div data-dropdown=\"toggle\" class=\"main-nav-link-toggle mobile\"><div class=\"main-nav-link-text\">Events</div><div data-dropdown=\"arrow\" class=\"main-nav-link-arrow\">ï\\x84\\x85</div></div><div data-dropdown=\"menu\" class=\"main-nav-link-menu mobile\"><div class=\"main-nav-link-menu-wrapper mobile\"><a href=\"/events\" class=\"main-nav-sublink mobile\">San Antonio</a><a href=\"#\" class=\"main-nav-sublink mobile\">Dallas</a></div></div></div><div data-dropdown=\"click\" class=\"main-nav-link mobile\"><a data-dropdown=\"toggle\" href=\"/veterans\" class=\"main-nav-link-toggle mobile w-inline-block\"><div class=\"main-nav-link-text\">Military</div></a></div><div data-dropdown=\"click\" class=\"main-nav-link mobile\"><div data-dropdown=\"toggle\" class=\"main-nav-link-toggle mobile\"><div class=\"main-nav-link-text\">Campuses</div><div data-dropdown=\"arrow\" class=\"main-nav-link-arrow\">ï\\x84\\x85</div></div><div data-dropdown=\"menu\" class=\"main-nav-link-menu mobile\"><div class=\"main-nav-link-menu-wrapper mobile\"><a href=\"/san-antonio\" class=\"main-nav-sublink mobile\">San Antonio</a><a href=\"/dallas\" class=\"main-nav-sublink mobile\">Dallas</a></div></div></div><div data-dropdown=\"click\" class=\"main-nav-link mobile\"><div data-dropdown=\"toggle\" class=\"main-nav-link-toggle mobile\"><div class=\"main-nav-link-text\">Hire</div><div data-dropdown=\"arrow\" class=\"main-nav-link-arrow\">ï\\x84\\x85</div></div><div data-dropdown=\"menu\" class=\"main-nav-link-menu mobile\"><div class=\"main-nav-link-menu-wrapper mobile\"><a href=\"/hire-tech-talent\" class=\"main-nav-sublink mobile\">Employers</a><a href=\"https://alumni.codeup.com/\" target=\"_blank\" class=\"main-nav-sublink mobile\">Alumni Portal</a></div></div></div><div data-dropdown=\"click\" class=\"main-nav-link mobile\"><div data-dropdown=\"toggle\" class=\"main-nav-link-toggle mobile\"><div class=\"main-nav-link-text\">Resources</div><div data-dropdown=\"arrow\" class=\"main-nav-link-arrow\">ï\\x84\\x85</div></div><div data-dropdown=\"menu\" class=\"main-nav-link-menu mobile\"><div class=\"main-nav-link-menu-wrapper mobile\"><a href=\"/my-story\" class=\"main-nav-sublink mobile\">Student Reviews</a><a href=\"#\" class=\"main-nav-sublink mobile\">Blog</a><a href=\"#\" class=\"main-nav-sublink mobile\">Common Questions</a></div></div></div></nav></div></div></div></div></div></div></header><div class=\"section alt-hero\"><div class=\"row\"><div class=\"column justify-center\"><h1 class=\"heading-h1\">Codeup Blog</h1><form action=\"/search\" class=\"position-relative w-form\"><input class=\"w-input\" maxlength=\"256\" name=\"query\" placeholder=\"Search Library (ex: What is Cloud Administration?)\" type=\"search\" id=\"search\" required=\"\"/><input type=\"submit\" class=\"search-button w-button\" value=\"Search\"/></form></div></div></div><section class=\"section section-bg\"><div class=\"row\"><div class=\"blog-grid-wrapper w-dyn-list\"><div role=\"list\" class=\"blog-grid w-dyn-items\"><div role=\"listitem\" class=\"blog-card w-dyn-item\"><img alt=\"\" src=\"\" class=\"blog-card-image w-condition-invisible w-dyn-bind-empty\"/><img alt=\"Codeup blog image of codeup student at desk looking at computer\" src=\"https://assets-global.website-files.com/632c75d94fe9214a38d3ba10/64f0cd453de03474d8cf1195_CA-Blog-Header-1.webp\" sizes=\"100vw\" srcset=\"https://assets-global.website-files.com/632c75d94fe9214a38d3ba10/64f0cd453de03474d8cf1195_CA-Blog-Header-1-p-500.webp 500w, https://assets-global.website-files.com/632c75d94fe9214a38d3ba10/64f0cd453de03474d8cf1195_CA-Blog-Header-1.webp 795w\" class=\"blog-card-image\"/><div class=\"d-flex flex-column gap-10 p-20\"><p class=\"link\">September 9, 2020</p><h2 class=\"entry-title\">What is Python?</h2><p class=\"w-dyn-bind-empty\"></p><a href=\"/blog/https-codeup-edu-data-science-what-is-python\" class=\"read-more\">read more</a></div></div><div role=\"listitem\" class=\"blog-card w-dyn-item\"><img alt=\"\" src=\"\" class=\"blog-card-image w-condition-invisible w-dyn-bind-empty\"/><img alt=\"Codeup blog image of codeup student at desk looking at computer\" src=\"https://assets-global.website-files.com/632c75d94fe9214a38d3ba10/64f0cd453de03474d8cf1195_CA-Blog-Header-1.webp\" sizes=\"100vw\" srcset=\"https://assets-global.website-files.com/632c75d94fe9214a38d3ba10/64f0cd453de03474d8cf1195_CA-Blog-Header-1-p-500.webp 500w, https://assets-global.website-files.com/632c75d94fe9214a38d3ba10/64f0cd453de03474d8cf1195_CA-Blog-Header-1.webp 795w\" class=\"blog-card-image\"/><div class=\"d-flex flex-column gap-10 p-20\"><p class=\"link\">August 26, 2020</p><h2 class=\"entry-title\">What is Machine Learning?</h2><p class=\"w-dyn-bind-empty\"></p><a href=\"/blog/https-codeup-edu-data-science-what-is-machine-learning\" class=\"read-more\">read more</a></div></div><div role=\"listitem\" class=\"blog-card w-dyn-item\"><img alt=\"\" src=\"\" class=\"blog-card-image w-condition-invisible w-dyn-bind-empty\"/><img alt=\"Codeup blog image of codeup student at desk looking at computer\" src=\"https://assets-global.website-files.com/632c75d94fe9214a38d3ba10/64f0cd453de03474d8cf1195_CA-Blog-Header-1.webp\" sizes=\"100vw\" srcset=\"https://assets-global.website-files.com/632c75d94fe9214a38d3ba10/64f0cd453de03474d8cf1195_CA-Blog-Header-1-p-500.webp 500w, https://assets-global.website-files.com/632c75d94fe9214a38d3ba10/64f0cd453de03474d8cf1195_CA-Blog-Header-1.webp 795w\" class=\"blog-card-image\"/><div class=\"d-flex flex-column gap-10 p-20\"><p class=\"link\">August 13, 2020</p><h2 class=\"entry-title\">Codeup on Inc. 5000 Fastest Growing Private Companies in America!</h2><p class=\"w-dyn-bind-empty\"></p><a href=\"/blog/https-codeup-edu-codeup-news-fastest-growing-private-companies\" class=\"read-more\">read more</a></div></div><div role=\"listitem\" class=\"blog-card w-dyn-item\"><img alt=\"\" src=\"\" class=\"blog-card-image w-condition-invisible w-dyn-bind-empty\"/><img alt=\"Codeup blog image of codeup student at desk looking at computer\" src=\"https://assets-global.website-files.com/632c75d94fe9214a38d3ba10/64f0cd453de03474d8cf1195_CA-Blog-Header-1.webp\" sizes=\"100vw\" srcset=\"https://assets-global.website-files.com/632c75d94fe9214a38d3ba10/64f0cd453de03474d8cf1195_CA-Blog-Header-1-p-500.webp 500w, https://assets-global.website-files.com/632c75d94fe9214a38d3ba10/64f0cd453de03474d8cf1195_CA-Blog-Header-1.webp 795w\" class=\"blog-card-image\"/><div class=\"d-flex flex-column gap-10 p-20\"><p class=\"link\">August 10, 2020</p><h2 class=\"entry-title\">Build Your Career in Tech: Advice from Alumni!</h2><p class=\"w-dyn-bind-empty\"></p><a href=\"/blog/https-codeup-edu-tips-for-prospective-students-build-your-career-in-tech\" class=\"read-more\">read more</a></div></div><div role=\"listitem\" class=\"blog-card w-dyn-item\"><img alt=\"\" src=\"\" class=\"blog-card-image w-condition-invisible w-dyn-bind-empty\"/><img alt=\"Codeup blog image of codeup student at desk looking at computer\" src=\"https://assets-global.website-files.com/632c75d94fe9214a38d3ba10/64f0cd453de03474d8cf1195_CA-Blog-Header-1.webp\" sizes=\"100vw\" srcset=\"https://assets-global.website-files.com/632c75d94fe9214a38d3ba10/64f0cd453de03474d8cf1195_CA-Blog-Header-1-p-500.webp 500w, https://assets-global.website-files.com/632c75d94fe9214a38d3ba10/64f0cd453de03474d8cf1195_CA-Blog-Header-1.webp 795w\" class=\"blog-card-image\"/><div class=\"d-flex flex-column gap-10 p-20\"><p class=\"link\">July 30, 2020</p><h2 class=\"entry-title\">Codeup Grads Win CivTech Datathon</h2><p class=\"w-dyn-bind-empty\"></p><a href=\"/blog/https-codeup-edu-data-science-codeup-wins-civtech-datathon\" class=\"read-more\">read more</a></div></div><div role=\"listitem\" class=\"blog-card w-dyn-item\"><img alt=\"\" src=\"\" class=\"blog-card-image w-condition-invisible w-dyn-bind-empty\"/><img alt=\"Codeup blog image of codeup student at desk looking at computer\" src=\"https://assets-global.website-files.com/632c75d94fe9214a38d3ba10/64f0cd453de03474d8cf1195_CA-Blog-Header-1.webp\" sizes=\"100vw\" srcset=\"https://assets-global.website-files.com/632c75d94fe9214a38d3ba10/64f0cd453de03474d8cf1195_CA-Blog-Header-1-p-500.webp 500w, https://assets-global.website-files.com/632c75d94fe9214a38d3ba10/64f0cd453de03474d8cf1195_CA-Blog-Header-1.webp 795w\" class=\"blog-card-image\"/><div class=\"d-flex flex-column gap-10 p-20\"><p class=\"link\">July 27, 2020</p><h2 class=\"entry-title\">How Codeup Alumni are Helping to Make Water</h2><p class=\"w-dyn-bind-empty\"></p><a href=\"/blog/https-codeup-edu-web-development-codeup-alumni-make-water\" class=\"read-more\">read more</a></div></div><div role=\"listitem\" class=\"blog-card w-dyn-item\"><img alt=\"\" src=\"\" class=\"blog-card-image w-condition-invisible w-dyn-bind-empty\"/><img alt=\"Codeup blog image of codeup student at desk looking at computer\" src=\"https://assets-global.website-files.com/632c75d94fe9214a38d3ba10/64f0cd453de03474d8cf1195_CA-Blog-Header-1.webp\" sizes=\"100vw\" srcset=\"https://assets-global.website-files.com/632c75d94fe9214a38d3ba10/64f0cd453de03474d8cf1195_CA-Blog-Header-1-p-500.webp 500w, https://assets-global.website-files.com/632c75d94fe9214a38d3ba10/64f0cd453de03474d8cf1195_CA-Blog-Header-1.webp 795w\" class=\"blog-card-image\"/><div class=\"d-flex flex-column gap-10 p-20\"><p class=\"link\">July 7, 2020</p><h2 class=\"entry-title\">Alumni Share their Journey into Web Development</h2><p class=\"w-dyn-bind-empty\"></p><a href=\"/blog/https-codeup-edu-web-development-journey-into-web-development\" class=\"read-more\">read more</a></div></div><div role=\"listitem\" class=\"blog-card w-dyn-item\"><img alt=\"\" src=\"\" class=\"blog-card-image w-condition-invisible w-dyn-bind-empty\"/><img alt=\"Codeup blog image of codeup student at desk looking at computer\" src=\"https://assets-global.website-files.com/632c75d94fe9214a38d3ba10/64f0cd453de03474d8cf1195_CA-Blog-Header-1.webp\" sizes=\"100vw\" srcset=\"https://assets-global.website-files.com/632c75d94fe9214a38d3ba10/64f0cd453de03474d8cf1195_CA-Blog-Header-1-p-500.webp 500w, https://assets-global.website-files.com/632c75d94fe9214a38d3ba10/64f0cd453de03474d8cf1195_CA-Blog-Header-1.webp 795w\" class=\"blog-card-image\"/><div class=\"d-flex flex-column gap-10 p-20\"><p class=\"link\">June 22, 2020</p><h2 class=\"entry-title\">How to Succeed in a Coding Bootcamp</h2><p class=\"w-dyn-bind-empty\"></p><a href=\"/blog/https-codeup-edu-tips-for-prospective-students-succeed-in-a-coding-bootcamp\" class=\"read-more\">read more</a></div></div><div role=\"listitem\" class=\"blog-card w-dyn-item\"><img alt=\"\" src=\"\" class=\"blog-card-image w-condition-invisible w-dyn-bind-empty\"/><img alt=\"Codeup blog image of codeup student at desk looking at computer\" src=\"https://assets-global.website-files.com/632c75d94fe9214a38d3ba10/64f0cd453de03474d8cf1195_CA-Blog-Header-1.webp\" sizes=\"100vw\" srcset=\"https://assets-global.website-files.com/632c75d94fe9214a38d3ba10/64f0cd453de03474d8cf1195_CA-Blog-Header-1-p-500.webp 500w, https://assets-global.website-files.com/632c75d94fe9214a38d3ba10/64f0cd453de03474d8cf1195_CA-Blog-Header-1.webp 795w\" class=\"blog-card-image\"/><div class=\"d-flex flex-column gap-10 p-20\"><p class=\"link\">June 11, 2020</p><h2 class=\"entry-title\">From Slacker to Data Scientist: Journey to Data Science Without a Degree</h2><p class=\"w-dyn-bind-empty\"></p><a href=\"/blog/https-codeup-edu-data-science-data-science-without-a-degree\" class=\"read-more\">read more</a></div></div></div><div role=\"navigation\" aria-label=\"List\" class=\"w-pagination-wrapper\"><a href=\"?4ba4c290_page=12\" aria-label=\"Previous Page\" class=\"w-pagination-previous\"><svg class=\"w-pagination-previous-icon\" height=\"12px\" width=\"12px\" xmlns=\"http://www.w3.org/2000/svg\" viewBox=\"0 0 12 12\" transform=\"translate(0, 1)\"><path fill=\"none\" stroke=\"currentColor\" fill-rule=\"evenodd\" d=\"M8 10L4 6l4-4\"></path></svg><div class=\"w-inline-block\">Previous</div></a><a href=\"?4ba4c290_page=14\" aria-label=\"Next Page\" class=\"w-pagination-next\"><div class=\"w-inline-block\">Next</div><svg class=\"w-pagination-next-icon\" height=\"12px\" width=\"12px\" xmlns=\"http://www.w3.org/2000/svg\" viewBox=\"0 0 12 12\" transform=\"translate(0, 1)\"><path fill=\"none\" stroke=\"currentColor\" fill-rule=\"evenodd\" d=\"M4 2l4 4-4 4\"></path></svg></a><link rel=\"prerender\" href=\"?4ba4c290_page=14\"/></div></div></div></section><section class=\"section footer-cta\"><div class=\"row\"><div class=\"column\"><h2>Get Program Details &amp; Pricing</h2><p class=\"subheading-p\">Submit your information to gain access to more information about our programs, financial aid, and benefits.</p></div><div class=\"column col-shrink justify-center\"></div></div></section><footer class=\"section footer\"><div class=\"row\"><div class=\"column col-300 align-center\"><h3 class=\"heading-9\"></h3><a href=\"tel:12108027289\" class=\"footer-phone w-inline-block\"></a><img src=\"https://assets-global.website-files.com/632c75d94fe9214a38d3ba10/63bc88fdf1b61145eb4bd541_codey-1.webp\" loading=\"lazy\" alt=\"Quack quack\"/></div><div class=\"column\"><h3 class=\"heading-8\">Quick Links</h3><ul role=\"list\" class=\"footer-menu-ul w-list-unstyled\"><li class=\"footer-menu-li\"><a href=\"/financial-aid\" class=\"footer-menu-link\">Financial Aid Questions</a></li><li class=\"footer-menu-li\"><a href=\"/my-story\" class=\"footer-menu-link\">Student Reviews</a></li><li class=\"footer-menu-li\"><a href=\"/hire-tech-talent\" class=\"footer-menu-link\">Employers</a></li><li class=\"footer-menu-li\"></li><li class=\"footer-menu-li\"><a href=\"#\" class=\"footer-menu-link\">Media Kit</a></li></ul></div><div class=\"column\"><h3 class=\"heading-8\">Choose a Program</h3><ul role=\"list\" class=\"footer-menu-ul w-list-unstyled\"><li class=\"footer-menu-li\"><a href=\"/program/cloud-administration\" class=\"footer-menu-link\">Full Stack Web Development</a></li><li class=\"footer-menu-li\"><a href=\"#\" class=\"footer-menu-link\">Data Science</a></li><li class=\"footer-menu-li\"><a href=\"#\" class=\"footer-menu-link\">Cloud Administration</a></li></ul></div></div><div class=\"row\"><div class=\"w-layout-blockcontainer column w-container\"></div></div></footer><script src=\"https://d3e54v103j8qbb.cloudfront.net/js/jquery-3.5.1.min.dc5e7f18c8.js?site=632c75d94fe9214a38d3ba10\" type=\"text/javascript\" integrity=\"sha256-9/aliU8dGd2tb6OSsuzixeV4y/faTqgFtohetphbbj0=\" crossorigin=\"anonymous\"></script><script src=\"https://assets-global.website-files.com/632c75d94fe9214a38d3ba10/js/webflow.ba954b83d.js\" type=\"text/javascript\"></script><script>\\n  //sticky header animations\\n  let header = document.querySelector(\\'#header\\');\\n  window.addEventListener(\"scroll\", () => {\\n    if (window.pageYOffset > 0) {\\n      header.classList.add(\\'sticky\\');\\n    } else {\\n      header.classList.remove(\\'sticky\\');\\n    }\\n  });\\n  \\n  //mobile menu animations\\n  let menuIcon = document.querySelector(\\'.mobile-menu-icon\\');\\n  let mobileMenuContainer = document.querySelector(\\'.mobile-menu-container\\');\\n  let mobileMenuBG = document.querySelector(\\'.mobile-menu-bg\\');\\n  menuIcon.addEventListener(\\'click\\', () => {\\n    menuIcon.classList.toggle(\\'open\\');\\n    mobileMenuContainer.classList.toggle(\\'open\\');\\n  });\\n  mobileMenuBG.addEventListener(\\'click\\', () => {\\n    menuIcon.classList.toggle(\\'open\\');\\n    mobileMenuContainer.classList.toggle(\\'open\\');\\n  });\\n  \\n  // Hover dropdown functionality\\n  let hoverDropdowns = document.querySelectorAll(\"[data-dropdown=\\'hover\\']\");\\n  hoverDropdowns.forEach((dropdown) => {\\n    let parent = dropdown;\\n    let toggle = dropdown.querySelector(\"[data-dropdown=\\'toggle\\']\");\\n    let menu = dropdown.querySelector(\"[data-dropdown=\\'menu\\']\");\\n    let arrow = dropdown.querySelector(\"[data-dropdown=\\'arrow\\']\");\\n    if (menu) {\\n      parent.addEventListener(\"mouseenter\", (e) => {\\n          e.stopPropagation();\\n          menu.style.height = \"auto\";\\n          let menuHeight = menu.offsetHeight;\\n          if (arrow)\\n              arrow.classList.add(\\'rotate\\');\\n          menu.style.height = \"0px\";\\n          animate(menu, 0, menuHeight, 200);\\n      });\\n      parent.addEventListener(\"mouseleave\", (e) => {\\n          e.stopPropagation();\\n          if (arrow)\\n              arrow.classList.remove(\\'rotate\\');\\n          animate(menu, menu.offsetHeight, 0, 200);\\n      });\\n    }\\n  });\\n  \\n  // Click dropdown functionality\\n  let clickDropdowns = document.querySelectorAll(\"[data-dropdown=\\'click\\']\");\\n  clickDropdowns.forEach((dropdown) => {\\n    let parent = dropdown;\\n    let toggle = dropdown.querySelector(\"[data-dropdown=\\'toggle\\']\");\\n    let menu = dropdown.querySelector(\"[data-dropdown=\\'menu\\']\");\\n    let arrow = dropdown.querySelector(\"[data-dropdown=\\'arrow\\']\");\\n    if (menu) {\\n      toggle.addEventListener(\"click\", (e) => {\\n          if (menu.getAttribute(\\'data-open\\') == \\'true\\') {\\n              menu.setAttribute(\\'data-open\\', \\'false\\');\\n              if (arrow)\\n                  arrow.classList.remove(\\'rotate\\');\\n              animate(menu, menu.offsetHeight, 0, 200);\\n          } else {\\n              menu.setAttribute(\\'data-open\\', \\'true\\');\\n              menu.style.height = \"auto\";\\n              let menuHeight = menu.offsetHeight;\\n              if (arrow)\\n                arrow.classList.add(\\'rotate\\');\\n              menu.style.height = \"0px\";\\n              animate(menu, 0, menuHeight, 200);\\n          }\\n      });\\n    }\\n  });\\n  \\n  // animation helper function\\n  function animate(element, from, to, duration, callback) {\\n    let start = performance.now();\\n    requestAnimationFrame(function animate(time) {\\n      let timeFraction = (time - start) / duration;\\n      if (timeFraction > 1) timeFraction = 1;\\n      let progress = from + (to - from) * timeFraction;\\n      element.style.height = progress + \\'px\\';\\n      if (timeFraction < 1) {\\n        requestAnimationFrame(animate);\\n      } else {\\n        if (callback) callback();\\n      }\\n    });\\n  }\\n\\n</script><script>\\n// if the url includes \"_page=\"\\nif (window.location.href.includes(\"_page=\")){\\n    // create style element\\n    const style = document.createElement(\\'style\\');\\n    // add css to style element\\n    style.innerHTML = `\\n        img.blog-card-image {\\n            display: none !important;\\n        }\\n        `;\\n    // append style element to head\\n    document.head.appendChild(style);\\n}\\n</script></body></html>'"
      ]
     },
     "execution_count": 9,
     "metadata": {},
     "output_type": "execute_result"
    }
   ],
   "source": [
    "response.text"
   ]
  },
  {
   "cell_type": "code",
   "execution_count": 10,
   "id": "89f2d6a9-c305-43cb-840e-00e7b57be6c4",
   "metadata": {
    "scrolled": true,
    "tags": []
   },
   "outputs": [
    {
     "data": {
      "text/plain": [
       "<!DOCTYPE html>\n",
       "<!-- Last Published: Thu Dec 28 2023 17:50:38 GMT+0000 (Coordinated Universal Time) --><html data-wf-domain=\"www.codeup.edu\" data-wf-page=\"64f0c92b635a8e96ba780952\" data-wf-site=\"632c75d94fe9214a38d3ba10\" lang=\"en\"><head><meta charset=\"utf-8\"/><title>Blogs</title><meta content=\"Blogs\" property=\"og:title\"/><meta content=\"Blogs\" property=\"twitter:title\"/><meta content=\"width=device-width, initial-scale=1\" name=\"viewport\"/><link href=\"https://assets-global.website-files.com/632c75d94fe9214a38d3ba10/css/codeup-website.webflow.dd8c8e6fe.min.css\" rel=\"stylesheet\" type=\"text/css\"/><link href=\"https://fonts.googleapis.com\" rel=\"preconnect\"/><link crossorigin=\"anonymous\" href=\"https://fonts.gstatic.com\" rel=\"preconnect\"/><script src=\"https://ajax.googleapis.com/ajax/libs/webfont/1.6.26/webfont.js\" type=\"text/javascript\"></script><script type=\"text/javascript\">WebFont.load({  google: {    families: [\"Poppins:100,100italic,200,200italic,300,300italic,regular,italic,500,500italic,600,600italic,700,700italic,800,800italic,900,900italic\",\"Bebas Neue:regular\"]  }});</script><script type=\"text/javascript\">!function(o,c){var n=c.documentElement,t=\" w-mod-\";n.className+=t+\"js\",(\"ontouchstart\"in o||o.DocumentTouch&&c instanceof DocumentTouch)&&(n.className+=t+\"touch\")}(window,document);</script><link href=\"https://assets-global.website-files.com/632c75d94fe9214a38d3ba10/63d9a9f200089f0f65096eb4_favicon.png\" rel=\"shortcut icon\" type=\"image/x-icon\"/><link href=\"https://assets-global.website-files.com/632c75d94fe9214a38d3ba10/64f74b20b5514d39436608cf_CodeupFullColorChevronYT.jpeg\" rel=\"apple-touch-icon\"/><script async=\"\" src=\"https://www.googletagmanager.com/gtag/js?id=G-T28MWJ54LC\"></script><script type=\"text/javascript\">window.dataLayer = window.dataLayer || [];function gtag(){dataLayer.push(arguments);}gtag('js', new Date());gtag('set', 'developer_id.dZGVlNj', true);gtag('config', 'G-T28MWJ54LC');</script><style>\n",
       "  /* Ensure body doesn't overflow on x-axis */\n",
       "  html {\n",
       "    width: 100vw;\n",
       "  }\n",
       "  body {\n",
       "  \twidth:100vw;\n",
       "    overflow-x: clip;\n",
       "  }\n",
       "  /* Sticky Header Custom CSS */\n",
       "  #header {\n",
       "  \tposition: -webkit-sticky; \n",
       "  }\n",
       "  #header.sticky {\n",
       "    box-shadow: 0 0 10px -3px rgb(0 0 0 / 44%);\n",
       "  }\n",
       "  #header.sticky .bottom-header {\n",
       "    height:70px;\n",
       "  }\n",
       "  #header.sticky .bottom-header-logo {\n",
       "   max-height: 50px; \n",
       "  }\n",
       "  \n",
       "  /* Button custom CSS */\n",
       "  .button:hover .button-arrow {\n",
       "    right: 20px;\n",
       "    opacity: 1;\n",
       "  }\n",
       "  .course-nav-link:hover .course-nav-arrow {\n",
       "   width: 10px;\n",
       "   opacity: 1;\n",
       "  }\n",
       "  \n",
       "  /* Mobile Menu Custom CSS */\n",
       "  .mobile-menu-icon svg, #line1, #line2, #line3 {\n",
       "    transform-origin: center center;\n",
       "    transform: rotate(0deg);\n",
       "    transition: all ease 0.2s;\n",
       "    opacity: 1;\n",
       "  }\n",
       "  .mobile-menu-icon.open svg {\n",
       "    transform: translate3d(0px,1px,0) rotate(180deg) scale(1.2);\n",
       "  }\n",
       "  .mobile-menu-icon.open svg #line1 {\n",
       "    transform: translate3d(-4px,5px,0) rotate(45deg);\n",
       "  }\n",
       "  .mobile-menu-icon.open svg #line2 {\n",
       "   \topacity: 0;\n",
       "  }\n",
       "  .mobile-menu-icon.open svg #line3 {\n",
       "    transform: translate3d(-4px,-3px, 0) rotate(-45deg);\n",
       "  }\n",
       "  .mobile-menu-icon-wrapper:has(.open) {\n",
       "   \tbackground-color:#FFC00D;\n",
       "   \tposition: fixed;\n",
       "   \ttop: 20px;\n",
       "    right: 20px;\n",
       "  }\n",
       "  .mobile-menu-container {\n",
       "    pointer-events: none;\n",
       "  }\n",
       "  .mobile-menu-container.open {\n",
       "    pointer-events: all;\n",
       "  }\n",
       "  .mobile-menu-container.open .mobile-menu-bg {\n",
       "  \topacity:1; \n",
       "  }\n",
       "  .mobile-menu-container.open .mobile-menu-slideout {\n",
       "  \tright:0px; \n",
       "  }\n",
       "  html:has(.mobile-menu-container.open), body:has(.mobile-menu-container.open) {\n",
       "    max-height: 100vh;\n",
       "    overflow: hidden;\n",
       "  }\n",
       "  \n",
       "  /* Custom Divider */\n",
       "  .green-divider {\n",
       "    background-image: url(data:image/svg+xml;base64,PHN2ZyB3aWR0aD0iMTAwJSIgaGVpZ2h0PSI2NXB4IiB2aWV3Qm94PSIwIDAgMTI4MCAxNDAiIHByZXNlcnZlQXNwZWN0UmF0aW89Im5vbmUiIHhtbG5zPSJodHRwOi8vd3d3LnczLm9yZy8yMDAwL3N2ZyI+PGcgZmlsbD0iIzc5QTA0QSI+PHBhdGggZD0iTTY0MCAxNDBMMTI4MCAwSDB6IiBmaWxsLW9wYWNpdHk9Ii41Ii8+PHBhdGggZD0iTTY0MCA5OGw2NDAtOThIMHoiLz48L2c+PC9zdmc+);\n",
       "    background-size: 100% 65px;\n",
       "    top: 0;\n",
       "    height: 65px;\n",
       "    z-index: 1;\n",
       "    transform: scale(1,1); \n",
       "  }\n",
       "  .w-webflow-badge {\n",
       "    display: none !important;\n",
       "    opacity: 0 !important;\n",
       "    pointer-events: none !important;\n",
       "  }\n",
       "</style></head><body><header class=\"header\" id=\"header\"><div class=\"top-header\"><div class=\"row flex space-between\"></div></div><div class=\"bottom-header\"><div class=\"row header\"><a class=\"column col-shrink w-inline-block\" href=\"/\"><img alt=\"Codeup Logo\" class=\"bottom-header-logo\" loading=\"eager\" sizes=\"180px\" src=\"https://assets-global.website-files.com/632c75d94fe9214a38d3ba10/632c7951c0bc24b0a1b915d3_CodeupFullColorLogo.png\" srcset=\"https://assets-global.website-files.com/632c75d94fe9214a38d3ba10/632c7951c0bc24b0a1b915d3_CodeupFullColorLogo-p-500.webp 500w, https://assets-global.website-files.com/632c75d94fe9214a38d3ba10/632c7951c0bc24b0a1b915d3_CodeupFullColorLogo.png 2140w\" width=\"1070\"/></a><link href=\"/\" rel=\"prerender\"/><div class=\"column\"><nav class=\"main-navigation\"><div class=\"main-nav-link\" data-dropdown=\"hover\"><div class=\"main-nav-link-toggle\" data-dropdown=\"\"><div class=\"main-nav-link-text\">Programs</div><div class=\"main-nav-link-arrow\" data-dropdown=\"arrow\"></div></div><div class=\"main-nav-link-menu\" data-dropdown=\"menu\"><div class=\"main-nav-link-menu-wrapper\"><a class=\"main-nav-sublink\" href=\"/program/cloud-administration\">Cloud Administration</a><link href=\"/program/cloud-administration\" rel=\"prefetch\"/><a class=\"main-nav-sublink\" href=\"/program/full-stack-web-development\">Web Development</a><link href=\"/program/full-stack-web-development\" rel=\"prefetch\"/><a class=\"main-nav-sublink\" href=\"/program/data-science\">Data Science</a><link href=\"/program/data-science\" rel=\"prefetch\"/></div></div></div><div class=\"main-nav-link\" data-dropdown=\"hover\"><a class=\"main-nav-link-toggle w-inline-block\" data-dropdown=\"\" href=\"/events\"><div class=\"main-nav-link-text\">Events</div></a></div><div class=\"main-nav-link\" data-dropdown=\"hover\"><div class=\"main-nav-link-toggle\" data-dropdown=\"\"><div class=\"main-nav-link-text\">Campuses</div><div class=\"main-nav-link-arrow\" data-dropdown=\"arrow\"></div></div><div class=\"main-nav-link-menu\" data-dropdown=\"menu\"><div class=\"main-nav-link-menu-wrapper\"><a class=\"main-nav-sublink\" href=\"/san-antonio\">San Antonio</a><a class=\"main-nav-sublink\" href=\"/dallas\">Dallas</a></div></div></div><div class=\"main-nav-link\" data-dropdown=\"hover\"><div class=\"main-nav-link-toggle\" data-dropdown=\"\"><div class=\"main-nav-link-text\">Resources</div><div class=\"main-nav-link-arrow\" data-dropdown=\"arrow\"></div></div><div class=\"main-nav-link-menu\" data-dropdown=\"menu\"><div class=\"main-nav-link-menu-wrapper\"><a class=\"main-nav-sublink\" href=\"/my-story\">Student Reviews</a><a class=\"main-nav-sublink\" href=\"/veterans\">Financing</a><a aria-current=\"page\" class=\"main-nav-sublink w--current\" href=\"/blog\">Blog</a><a class=\"main-nav-sublink\" href=\"#\">Common Questions</a><a class=\"main-nav-sublink\" href=\"/financial-aid\">Financing</a></div></div></div></nav></div><div class=\"column justify-center col-shrink\"></div><div class=\"column mobile-menu-column\"><div class=\"mobile-menu-icon-wrapper\"><div class=\"mobile-menu-icon w-embed\"><svg fill=\"none\" height=\"20\" stroke=\"currentColor\" strokelinecap=\"round\" strokelinejoin=\"round\" strokewidth=\"15\" viewbox=\"0 0 24 24\" width=\"20\" xmlns=\"http://www.w3.org/2000/svg\">\n",
       "<line id=\"line2\" stroke-width=\"2\" x1=\"3\" x2=\"21\" y1=\"12\" y2=\"12\"></line>\n",
       "<line id=\"line1\" stroke-width=\"2\" x1=\"3\" x2=\"21\" y1=\"6\" y2=\"6\"></line>\n",
       "<line id=\"line3\" stroke-width=\"2\" x1=\"3\" x2=\"21\" y1=\"18\" y2=\"18\"></line>\n",
       "</svg></div></div><div class=\"mobile-menu-container\"><div class=\"mobile-menu-bg\"></div><div class=\"mobile-menu-slideout\"><img alt=\"\" class=\"mobile-slideout-logo\" loading=\"lazy\" sizes=\"(max-width: 991px) 120px, 100vw\" src=\"https://assets-global.website-files.com/632c75d94fe9214a38d3ba10/632c7951c0bc24b0a1b915d3_CodeupFullColorLogo.png\" srcset=\"https://assets-global.website-files.com/632c75d94fe9214a38d3ba10/632c7951c0bc24b0a1b915d3_CodeupFullColorLogo-p-500.webp 500w, https://assets-global.website-files.com/632c75d94fe9214a38d3ba10/632c7951c0bc24b0a1b915d3_CodeupFullColorLogo.png 2140w\"/><div class=\"mobile-slideout-wrapper\"><nav class=\"main-navigation mobile\"><div class=\"main-nav-link mobile\" data-dropdown=\"click\"><div class=\"main-nav-link-toggle mobile\" data-dropdown=\"toggle\"><div class=\"main-nav-link-text\">Programs</div><div class=\"main-nav-link-arrow\" data-dropdown=\"arrow\"></div></div><div class=\"main-nav-link-menu mobile\" data-dropdown=\"menu\"><div class=\"main-nav-link-menu-wrapper mobile\"><a class=\"main-nav-sublink mobile\" href=\"/program/cloud-administration\">Cloud Administration</a><link href=\"/program/cloud-administration\" rel=\"prerender\"/><a class=\"main-nav-sublink mobile\" href=\"/program/full-stack-web-development\">Web Development</a><link href=\"/program/full-stack-web-development\" rel=\"prerender\"/><a class=\"main-nav-sublink mobile\" href=\"/program/data-science\">Data Science</a><link href=\"/program/data-science\" rel=\"prerender\"/></div></div></div><div class=\"main-nav-link mobile\" data-dropdown=\"click\"><a class=\"main-nav-link-toggle mobile w-inline-block\" data-dropdown=\"toggle\" href=\"/financial-aid\"><div class=\"main-nav-link-text\">Financing</div></a></div><div class=\"main-nav-link mobile\" data-dropdown=\"click\"><div class=\"main-nav-link-toggle mobile\" data-dropdown=\"toggle\"><div class=\"main-nav-link-text\">Events</div><div class=\"main-nav-link-arrow\" data-dropdown=\"arrow\"></div></div><div class=\"main-nav-link-menu mobile\" data-dropdown=\"menu\"><div class=\"main-nav-link-menu-wrapper mobile\"><a class=\"main-nav-sublink mobile\" href=\"/events\">San Antonio</a><a class=\"main-nav-sublink mobile\" href=\"#\">Dallas</a></div></div></div><div class=\"main-nav-link mobile\" data-dropdown=\"click\"><a class=\"main-nav-link-toggle mobile w-inline-block\" data-dropdown=\"toggle\" href=\"/veterans\"><div class=\"main-nav-link-text\">Military</div></a></div><div class=\"main-nav-link mobile\" data-dropdown=\"click\"><div class=\"main-nav-link-toggle mobile\" data-dropdown=\"toggle\"><div class=\"main-nav-link-text\">Campuses</div><div class=\"main-nav-link-arrow\" data-dropdown=\"arrow\"></div></div><div class=\"main-nav-link-menu mobile\" data-dropdown=\"menu\"><div class=\"main-nav-link-menu-wrapper mobile\"><a class=\"main-nav-sublink mobile\" href=\"/san-antonio\">San Antonio</a><a class=\"main-nav-sublink mobile\" href=\"/dallas\">Dallas</a></div></div></div><div class=\"main-nav-link mobile\" data-dropdown=\"click\"><div class=\"main-nav-link-toggle mobile\" data-dropdown=\"toggle\"><div class=\"main-nav-link-text\">Hire</div><div class=\"main-nav-link-arrow\" data-dropdown=\"arrow\"></div></div><div class=\"main-nav-link-menu mobile\" data-dropdown=\"menu\"><div class=\"main-nav-link-menu-wrapper mobile\"><a class=\"main-nav-sublink mobile\" href=\"/hire-tech-talent\">Employers</a><a class=\"main-nav-sublink mobile\" href=\"https://alumni.codeup.com/\" target=\"_blank\">Alumni Portal</a></div></div></div><div class=\"main-nav-link mobile\" data-dropdown=\"click\"><div class=\"main-nav-link-toggle mobile\" data-dropdown=\"toggle\"><div class=\"main-nav-link-text\">Resources</div><div class=\"main-nav-link-arrow\" data-dropdown=\"arrow\"></div></div><div class=\"main-nav-link-menu mobile\" data-dropdown=\"menu\"><div class=\"main-nav-link-menu-wrapper mobile\"><a class=\"main-nav-sublink mobile\" href=\"/my-story\">Student Reviews</a><a class=\"main-nav-sublink mobile\" href=\"#\">Blog</a><a class=\"main-nav-sublink mobile\" href=\"#\">Common Questions</a></div></div></div></nav></div></div></div></div></div></div></header><div class=\"section alt-hero\"><div class=\"row\"><div class=\"column justify-center\"><h1 class=\"heading-h1\">Codeup Blog</h1><form action=\"/search\" class=\"position-relative w-form\"><input class=\"w-input\" id=\"search\" maxlength=\"256\" name=\"query\" placeholder=\"Search Library (ex: What is Cloud Administration?)\" required=\"\" type=\"search\"/><input class=\"search-button w-button\" type=\"submit\" value=\"Search\"/></form></div></div></div><section class=\"section section-bg\"><div class=\"row\"><div class=\"blog-grid-wrapper w-dyn-list\"><div class=\"blog-grid w-dyn-items\" role=\"list\"><div class=\"blog-card w-dyn-item\" role=\"listitem\"><img alt=\"\" class=\"blog-card-image w-condition-invisible w-dyn-bind-empty\" src=\"\"/><img alt=\"Codeup blog image of codeup student at desk looking at computer\" class=\"blog-card-image\" sizes=\"100vw\" src=\"https://assets-global.website-files.com/632c75d94fe9214a38d3ba10/64f0cd453de03474d8cf1195_CA-Blog-Header-1.webp\" srcset=\"https://assets-global.website-files.com/632c75d94fe9214a38d3ba10/64f0cd453de03474d8cf1195_CA-Blog-Header-1-p-500.webp 500w, https://assets-global.website-files.com/632c75d94fe9214a38d3ba10/64f0cd453de03474d8cf1195_CA-Blog-Header-1.webp 795w\"/><div class=\"d-flex flex-column gap-10 p-20\"><p class=\"link\">September 9, 2020</p><h2 class=\"entry-title\">What is Python?</h2><p class=\"w-dyn-bind-empty\"></p><a class=\"read-more\" href=\"/blog/https-codeup-edu-data-science-what-is-python\">read more</a></div></div><div class=\"blog-card w-dyn-item\" role=\"listitem\"><img alt=\"\" class=\"blog-card-image w-condition-invisible w-dyn-bind-empty\" src=\"\"/><img alt=\"Codeup blog image of codeup student at desk looking at computer\" class=\"blog-card-image\" sizes=\"100vw\" src=\"https://assets-global.website-files.com/632c75d94fe9214a38d3ba10/64f0cd453de03474d8cf1195_CA-Blog-Header-1.webp\" srcset=\"https://assets-global.website-files.com/632c75d94fe9214a38d3ba10/64f0cd453de03474d8cf1195_CA-Blog-Header-1-p-500.webp 500w, https://assets-global.website-files.com/632c75d94fe9214a38d3ba10/64f0cd453de03474d8cf1195_CA-Blog-Header-1.webp 795w\"/><div class=\"d-flex flex-column gap-10 p-20\"><p class=\"link\">August 26, 2020</p><h2 class=\"entry-title\">What is Machine Learning?</h2><p class=\"w-dyn-bind-empty\"></p><a class=\"read-more\" href=\"/blog/https-codeup-edu-data-science-what-is-machine-learning\">read more</a></div></div><div class=\"blog-card w-dyn-item\" role=\"listitem\"><img alt=\"\" class=\"blog-card-image w-condition-invisible w-dyn-bind-empty\" src=\"\"/><img alt=\"Codeup blog image of codeup student at desk looking at computer\" class=\"blog-card-image\" sizes=\"100vw\" src=\"https://assets-global.website-files.com/632c75d94fe9214a38d3ba10/64f0cd453de03474d8cf1195_CA-Blog-Header-1.webp\" srcset=\"https://assets-global.website-files.com/632c75d94fe9214a38d3ba10/64f0cd453de03474d8cf1195_CA-Blog-Header-1-p-500.webp 500w, https://assets-global.website-files.com/632c75d94fe9214a38d3ba10/64f0cd453de03474d8cf1195_CA-Blog-Header-1.webp 795w\"/><div class=\"d-flex flex-column gap-10 p-20\"><p class=\"link\">August 13, 2020</p><h2 class=\"entry-title\">Codeup on Inc. 5000 Fastest Growing Private Companies in America!</h2><p class=\"w-dyn-bind-empty\"></p><a class=\"read-more\" href=\"/blog/https-codeup-edu-codeup-news-fastest-growing-private-companies\">read more</a></div></div><div class=\"blog-card w-dyn-item\" role=\"listitem\"><img alt=\"\" class=\"blog-card-image w-condition-invisible w-dyn-bind-empty\" src=\"\"/><img alt=\"Codeup blog image of codeup student at desk looking at computer\" class=\"blog-card-image\" sizes=\"100vw\" src=\"https://assets-global.website-files.com/632c75d94fe9214a38d3ba10/64f0cd453de03474d8cf1195_CA-Blog-Header-1.webp\" srcset=\"https://assets-global.website-files.com/632c75d94fe9214a38d3ba10/64f0cd453de03474d8cf1195_CA-Blog-Header-1-p-500.webp 500w, https://assets-global.website-files.com/632c75d94fe9214a38d3ba10/64f0cd453de03474d8cf1195_CA-Blog-Header-1.webp 795w\"/><div class=\"d-flex flex-column gap-10 p-20\"><p class=\"link\">August 10, 2020</p><h2 class=\"entry-title\">Build Your Career in Tech: Advice from Alumni!</h2><p class=\"w-dyn-bind-empty\"></p><a class=\"read-more\" href=\"/blog/https-codeup-edu-tips-for-prospective-students-build-your-career-in-tech\">read more</a></div></div><div class=\"blog-card w-dyn-item\" role=\"listitem\"><img alt=\"\" class=\"blog-card-image w-condition-invisible w-dyn-bind-empty\" src=\"\"/><img alt=\"Codeup blog image of codeup student at desk looking at computer\" class=\"blog-card-image\" sizes=\"100vw\" src=\"https://assets-global.website-files.com/632c75d94fe9214a38d3ba10/64f0cd453de03474d8cf1195_CA-Blog-Header-1.webp\" srcset=\"https://assets-global.website-files.com/632c75d94fe9214a38d3ba10/64f0cd453de03474d8cf1195_CA-Blog-Header-1-p-500.webp 500w, https://assets-global.website-files.com/632c75d94fe9214a38d3ba10/64f0cd453de03474d8cf1195_CA-Blog-Header-1.webp 795w\"/><div class=\"d-flex flex-column gap-10 p-20\"><p class=\"link\">July 30, 2020</p><h2 class=\"entry-title\">Codeup Grads Win CivTech Datathon</h2><p class=\"w-dyn-bind-empty\"></p><a class=\"read-more\" href=\"/blog/https-codeup-edu-data-science-codeup-wins-civtech-datathon\">read more</a></div></div><div class=\"blog-card w-dyn-item\" role=\"listitem\"><img alt=\"\" class=\"blog-card-image w-condition-invisible w-dyn-bind-empty\" src=\"\"/><img alt=\"Codeup blog image of codeup student at desk looking at computer\" class=\"blog-card-image\" sizes=\"100vw\" src=\"https://assets-global.website-files.com/632c75d94fe9214a38d3ba10/64f0cd453de03474d8cf1195_CA-Blog-Header-1.webp\" srcset=\"https://assets-global.website-files.com/632c75d94fe9214a38d3ba10/64f0cd453de03474d8cf1195_CA-Blog-Header-1-p-500.webp 500w, https://assets-global.website-files.com/632c75d94fe9214a38d3ba10/64f0cd453de03474d8cf1195_CA-Blog-Header-1.webp 795w\"/><div class=\"d-flex flex-column gap-10 p-20\"><p class=\"link\">July 27, 2020</p><h2 class=\"entry-title\">How Codeup Alumni are Helping to Make Water</h2><p class=\"w-dyn-bind-empty\"></p><a class=\"read-more\" href=\"/blog/https-codeup-edu-web-development-codeup-alumni-make-water\">read more</a></div></div><div class=\"blog-card w-dyn-item\" role=\"listitem\"><img alt=\"\" class=\"blog-card-image w-condition-invisible w-dyn-bind-empty\" src=\"\"/><img alt=\"Codeup blog image of codeup student at desk looking at computer\" class=\"blog-card-image\" sizes=\"100vw\" src=\"https://assets-global.website-files.com/632c75d94fe9214a38d3ba10/64f0cd453de03474d8cf1195_CA-Blog-Header-1.webp\" srcset=\"https://assets-global.website-files.com/632c75d94fe9214a38d3ba10/64f0cd453de03474d8cf1195_CA-Blog-Header-1-p-500.webp 500w, https://assets-global.website-files.com/632c75d94fe9214a38d3ba10/64f0cd453de03474d8cf1195_CA-Blog-Header-1.webp 795w\"/><div class=\"d-flex flex-column gap-10 p-20\"><p class=\"link\">July 7, 2020</p><h2 class=\"entry-title\">Alumni Share their Journey into Web Development</h2><p class=\"w-dyn-bind-empty\"></p><a class=\"read-more\" href=\"/blog/https-codeup-edu-web-development-journey-into-web-development\">read more</a></div></div><div class=\"blog-card w-dyn-item\" role=\"listitem\"><img alt=\"\" class=\"blog-card-image w-condition-invisible w-dyn-bind-empty\" src=\"\"/><img alt=\"Codeup blog image of codeup student at desk looking at computer\" class=\"blog-card-image\" sizes=\"100vw\" src=\"https://assets-global.website-files.com/632c75d94fe9214a38d3ba10/64f0cd453de03474d8cf1195_CA-Blog-Header-1.webp\" srcset=\"https://assets-global.website-files.com/632c75d94fe9214a38d3ba10/64f0cd453de03474d8cf1195_CA-Blog-Header-1-p-500.webp 500w, https://assets-global.website-files.com/632c75d94fe9214a38d3ba10/64f0cd453de03474d8cf1195_CA-Blog-Header-1.webp 795w\"/><div class=\"d-flex flex-column gap-10 p-20\"><p class=\"link\">June 22, 2020</p><h2 class=\"entry-title\">How to Succeed in a Coding Bootcamp</h2><p class=\"w-dyn-bind-empty\"></p><a class=\"read-more\" href=\"/blog/https-codeup-edu-tips-for-prospective-students-succeed-in-a-coding-bootcamp\">read more</a></div></div><div class=\"blog-card w-dyn-item\" role=\"listitem\"><img alt=\"\" class=\"blog-card-image w-condition-invisible w-dyn-bind-empty\" src=\"\"/><img alt=\"Codeup blog image of codeup student at desk looking at computer\" class=\"blog-card-image\" sizes=\"100vw\" src=\"https://assets-global.website-files.com/632c75d94fe9214a38d3ba10/64f0cd453de03474d8cf1195_CA-Blog-Header-1.webp\" srcset=\"https://assets-global.website-files.com/632c75d94fe9214a38d3ba10/64f0cd453de03474d8cf1195_CA-Blog-Header-1-p-500.webp 500w, https://assets-global.website-files.com/632c75d94fe9214a38d3ba10/64f0cd453de03474d8cf1195_CA-Blog-Header-1.webp 795w\"/><div class=\"d-flex flex-column gap-10 p-20\"><p class=\"link\">June 11, 2020</p><h2 class=\"entry-title\">From Slacker to Data Scientist: Journey to Data Science Without a Degree</h2><p class=\"w-dyn-bind-empty\"></p><a class=\"read-more\" href=\"/blog/https-codeup-edu-data-science-data-science-without-a-degree\">read more</a></div></div></div><div aria-label=\"List\" class=\"w-pagination-wrapper\" role=\"navigation\"><a aria-label=\"Previous Page\" class=\"w-pagination-previous\" href=\"?4ba4c290_page=12\"><svg class=\"w-pagination-previous-icon\" height=\"12px\" transform=\"translate(0, 1)\" viewbox=\"0 0 12 12\" width=\"12px\" xmlns=\"http://www.w3.org/2000/svg\"><path d=\"M8 10L4 6l4-4\" fill=\"none\" fill-rule=\"evenodd\" stroke=\"currentColor\"></path></svg><div class=\"w-inline-block\">Previous</div></a><a aria-label=\"Next Page\" class=\"w-pagination-next\" href=\"?4ba4c290_page=14\"><div class=\"w-inline-block\">Next</div><svg class=\"w-pagination-next-icon\" height=\"12px\" transform=\"translate(0, 1)\" viewbox=\"0 0 12 12\" width=\"12px\" xmlns=\"http://www.w3.org/2000/svg\"><path d=\"M4 2l4 4-4 4\" fill=\"none\" fill-rule=\"evenodd\" stroke=\"currentColor\"></path></svg></a><link href=\"?4ba4c290_page=14\" rel=\"prerender\"/></div></div></div></section><section class=\"section footer-cta\"><div class=\"row\"><div class=\"column\"><h2>Get Program Details &amp; Pricing</h2><p class=\"subheading-p\">Submit your information to gain access to more information about our programs, financial aid, and benefits.</p></div><div class=\"column col-shrink justify-center\"></div></div></section><footer class=\"section footer\"><div class=\"row\"><div class=\"column col-300 align-center\"><h3 class=\"heading-9\"></h3><a class=\"footer-phone w-inline-block\" href=\"tel:12108027289\"></a><img alt=\"Quack quack\" loading=\"lazy\" src=\"https://assets-global.website-files.com/632c75d94fe9214a38d3ba10/63bc88fdf1b61145eb4bd541_codey-1.webp\"/></div><div class=\"column\"><h3 class=\"heading-8\">Quick Links</h3><ul class=\"footer-menu-ul w-list-unstyled\" role=\"list\"><li class=\"footer-menu-li\"><a class=\"footer-menu-link\" href=\"/financial-aid\">Financial Aid Questions</a></li><li class=\"footer-menu-li\"><a class=\"footer-menu-link\" href=\"/my-story\">Student Reviews</a></li><li class=\"footer-menu-li\"><a class=\"footer-menu-link\" href=\"/hire-tech-talent\">Employers</a></li><li class=\"footer-menu-li\"></li><li class=\"footer-menu-li\"><a class=\"footer-menu-link\" href=\"#\">Media Kit</a></li></ul></div><div class=\"column\"><h3 class=\"heading-8\">Choose a Program</h3><ul class=\"footer-menu-ul w-list-unstyled\" role=\"list\"><li class=\"footer-menu-li\"><a class=\"footer-menu-link\" href=\"/program/cloud-administration\">Full Stack Web Development</a></li><li class=\"footer-menu-li\"><a class=\"footer-menu-link\" href=\"#\">Data Science</a></li><li class=\"footer-menu-li\"><a class=\"footer-menu-link\" href=\"#\">Cloud Administration</a></li></ul></div></div><div class=\"row\"><div class=\"w-layout-blockcontainer column w-container\"></div></div></footer><script crossorigin=\"anonymous\" integrity=\"sha256-9/aliU8dGd2tb6OSsuzixeV4y/faTqgFtohetphbbj0=\" src=\"https://d3e54v103j8qbb.cloudfront.net/js/jquery-3.5.1.min.dc5e7f18c8.js?site=632c75d94fe9214a38d3ba10\" type=\"text/javascript\"></script><script src=\"https://assets-global.website-files.com/632c75d94fe9214a38d3ba10/js/webflow.ba954b83d.js\" type=\"text/javascript\"></script><script>\n",
       "  //sticky header animations\n",
       "  let header = document.querySelector('#header');\n",
       "  window.addEventListener(\"scroll\", () => {\n",
       "    if (window.pageYOffset > 0) {\n",
       "      header.classList.add('sticky');\n",
       "    } else {\n",
       "      header.classList.remove('sticky');\n",
       "    }\n",
       "  });\n",
       "  \n",
       "  //mobile menu animations\n",
       "  let menuIcon = document.querySelector('.mobile-menu-icon');\n",
       "  let mobileMenuContainer = document.querySelector('.mobile-menu-container');\n",
       "  let mobileMenuBG = document.querySelector('.mobile-menu-bg');\n",
       "  menuIcon.addEventListener('click', () => {\n",
       "    menuIcon.classList.toggle('open');\n",
       "    mobileMenuContainer.classList.toggle('open');\n",
       "  });\n",
       "  mobileMenuBG.addEventListener('click', () => {\n",
       "    menuIcon.classList.toggle('open');\n",
       "    mobileMenuContainer.classList.toggle('open');\n",
       "  });\n",
       "  \n",
       "  // Hover dropdown functionality\n",
       "  let hoverDropdowns = document.querySelectorAll(\"[data-dropdown='hover']\");\n",
       "  hoverDropdowns.forEach((dropdown) => {\n",
       "    let parent = dropdown;\n",
       "    let toggle = dropdown.querySelector(\"[data-dropdown='toggle']\");\n",
       "    let menu = dropdown.querySelector(\"[data-dropdown='menu']\");\n",
       "    let arrow = dropdown.querySelector(\"[data-dropdown='arrow']\");\n",
       "    if (menu) {\n",
       "      parent.addEventListener(\"mouseenter\", (e) => {\n",
       "          e.stopPropagation();\n",
       "          menu.style.height = \"auto\";\n",
       "          let menuHeight = menu.offsetHeight;\n",
       "          if (arrow)\n",
       "              arrow.classList.add('rotate');\n",
       "          menu.style.height = \"0px\";\n",
       "          animate(menu, 0, menuHeight, 200);\n",
       "      });\n",
       "      parent.addEventListener(\"mouseleave\", (e) => {\n",
       "          e.stopPropagation();\n",
       "          if (arrow)\n",
       "              arrow.classList.remove('rotate');\n",
       "          animate(menu, menu.offsetHeight, 0, 200);\n",
       "      });\n",
       "    }\n",
       "  });\n",
       "  \n",
       "  // Click dropdown functionality\n",
       "  let clickDropdowns = document.querySelectorAll(\"[data-dropdown='click']\");\n",
       "  clickDropdowns.forEach((dropdown) => {\n",
       "    let parent = dropdown;\n",
       "    let toggle = dropdown.querySelector(\"[data-dropdown='toggle']\");\n",
       "    let menu = dropdown.querySelector(\"[data-dropdown='menu']\");\n",
       "    let arrow = dropdown.querySelector(\"[data-dropdown='arrow']\");\n",
       "    if (menu) {\n",
       "      toggle.addEventListener(\"click\", (e) => {\n",
       "          if (menu.getAttribute('data-open') == 'true') {\n",
       "              menu.setAttribute('data-open', 'false');\n",
       "              if (arrow)\n",
       "                  arrow.classList.remove('rotate');\n",
       "              animate(menu, menu.offsetHeight, 0, 200);\n",
       "          } else {\n",
       "              menu.setAttribute('data-open', 'true');\n",
       "              menu.style.height = \"auto\";\n",
       "              let menuHeight = menu.offsetHeight;\n",
       "              if (arrow)\n",
       "                arrow.classList.add('rotate');\n",
       "              menu.style.height = \"0px\";\n",
       "              animate(menu, 0, menuHeight, 200);\n",
       "          }\n",
       "      });\n",
       "    }\n",
       "  });\n",
       "  \n",
       "  // animation helper function\n",
       "  function animate(element, from, to, duration, callback) {\n",
       "    let start = performance.now();\n",
       "    requestAnimationFrame(function animate(time) {\n",
       "      let timeFraction = (time - start) / duration;\n",
       "      if (timeFraction > 1) timeFraction = 1;\n",
       "      let progress = from + (to - from) * timeFraction;\n",
       "      element.style.height = progress + 'px';\n",
       "      if (timeFraction < 1) {\n",
       "        requestAnimationFrame(animate);\n",
       "      } else {\n",
       "        if (callback) callback();\n",
       "      }\n",
       "    });\n",
       "  }\n",
       "\n",
       "</script><script>\n",
       "// if the url includes \"_page=\"\n",
       "if (window.location.href.includes(\"_page=\")){\n",
       "    // create style element\n",
       "    const style = document.createElement('style');\n",
       "    // add css to style element\n",
       "    style.innerHTML = `\n",
       "        img.blog-card-image {\n",
       "            display: none !important;\n",
       "        }\n",
       "        `;\n",
       "    // append style element to head\n",
       "    document.head.appendChild(style);\n",
       "}\n",
       "</script></body></html>"
      ]
     },
     "execution_count": 10,
     "metadata": {},
     "output_type": "execute_result"
    }
   ],
   "source": [
    "soup = BeautifulSoup(response.content, 'html.parser')\n",
    "soup"
   ]
  },
  {
   "cell_type": "code",
   "execution_count": 11,
   "id": "c243ffa0-ea76-40ef-9bc2-bb11f5bd0e3b",
   "metadata": {
    "tags": []
   },
   "outputs": [
    {
     "data": {
      "text/plain": [
       "[]"
      ]
     },
     "execution_count": 11,
     "metadata": {},
     "output_type": "execute_result"
    }
   ],
   "source": [
    "soup.select('.more-link')"
   ]
  },
  {
   "cell_type": "code",
   "execution_count": null,
   "id": "14e2268d-b032-427b-ac31-9a32d3201faf",
   "metadata": {},
   "outputs": [],
   "source": []
  },
  {
   "cell_type": "code",
   "execution_count": null,
   "id": "d0947648-caab-480e-8c27-c60c38c6cb9b",
   "metadata": {},
   "outputs": [],
   "source": []
  },
  {
   "cell_type": "code",
   "execution_count": null,
   "id": "09a74fd2-add3-4a19-909c-a5fb739f0ebb",
   "metadata": {},
   "outputs": [],
   "source": []
  },
  {
   "cell_type": "code",
   "execution_count": null,
   "id": "f67a3ddc-e627-4f5f-aca9-5ad91d375d36",
   "metadata": {},
   "outputs": [],
   "source": []
  },
  {
   "cell_type": "markdown",
   "id": "d41a5ea5-fe6f-4f0c-bcce-6d9a63a3106a",
   "metadata": {},
   "source": [
    "2. News Articles\n",
    "\n",
    "We will now be scraping text data from *inshorts*, a website that provides a brief overview of many different topics.\n",
    "\n",
    "Write a function that scrapes the news articles for the following topics:\n",
    "\n",
    "- Business\n",
    "- Sports\n",
    "- Technology\n",
    "- Entertainment\n",
    "\n",
    "The end product of this should be a function named `get_news_articles` that returns a list of dictionaries, where each dictionary has this shape:\n",
    "\n",
    "\n",
    "{\n",
    "    'title': 'The article title',\n",
    "    'content': 'The article content',\n",
    "    'category': 'business' # for example\n",
    "}\n",
    "Hints:\n",
    "\n",
    "- a. Start by inspecting the website in your browser. Figure out which elements will be useful.\n",
    "- b. Start by creating a function that handles a single article and produces a dictionary like the one above.\n",
    "- c. Next create a function that will find all the articles on a single page and call the function you created in the last step for every article on the page.\n",
    "- d. Now create a function that will use the previous two functions to scrape the articles from all the pages that you need, and do any additional processing that needs to be done."
   ]
  },
  {
   "cell_type": "code",
   "execution_count": null,
   "id": "5dd5755c-7e8f-42f0-bc54-c94d27290336",
   "metadata": {},
   "outputs": [],
   "source": []
  },
  {
   "cell_type": "code",
   "execution_count": null,
   "id": "e5b0f882-a7b9-4346-a964-adbee11667b6",
   "metadata": {},
   "outputs": [],
   "source": []
  },
  {
   "cell_type": "markdown",
   "id": "abb9e735-9f40-47c0-acef-4ce0b2096f4d",
   "metadata": {},
   "source": [
    "3. Bonus: cache the data\n",
    "\n",
    "Write your code such that the acquired data is saved locally in some form or fashion. Your functions that retrieve the data should prefer to read the local data instead of having to make all the requests everytime the function is called. Include a boolean flag in the functions to allow the data to be acquired \"fresh\" from the actual sources (re-writing your local cache)."
   ]
  },
  {
   "cell_type": "code",
   "execution_count": null,
   "id": "cebef30f-825d-4d88-9831-070127d49bd0",
   "metadata": {},
   "outputs": [],
   "source": []
  },
  {
   "cell_type": "code",
   "execution_count": null,
   "id": "a988df7c-e0d1-4538-8848-1c45026d7695",
   "metadata": {},
   "outputs": [],
   "source": []
  },
  {
   "cell_type": "code",
   "execution_count": null,
   "id": "ffdd8e81-301f-4ca1-ace3-e4310f393460",
   "metadata": {},
   "outputs": [],
   "source": []
  }
 ],
 "metadata": {
  "kernelspec": {
   "display_name": "Python 3 (ipykernel)",
   "language": "python",
   "name": "python3"
  },
  "language_info": {
   "codemirror_mode": {
    "name": "ipython",
    "version": 3
   },
   "file_extension": ".py",
   "mimetype": "text/x-python",
   "name": "python",
   "nbconvert_exporter": "python",
   "pygments_lexer": "ipython3",
   "version": "3.11.4"
  }
 },
 "nbformat": 4,
 "nbformat_minor": 5
}
